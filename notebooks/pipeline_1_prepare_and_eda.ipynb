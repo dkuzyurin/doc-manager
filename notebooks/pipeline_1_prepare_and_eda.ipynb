{
 "cells": [
  {
   "cell_type": "code",
   "execution_count": 1,
   "metadata": {},
   "outputs": [],
   "source": [
    "import pandas as pd\n",
    "import numpy as np\n",
    "from sklearn.model_selection import train_test_split\n",
    "import json\n",
    "from pathlib import Path\n",
    "import sys\n",
    "import matplotlib.pyplot as plt\n",
    "import seaborn as sns\n",
    "from tqdm import tqdm"
   ]
  },
  {
   "cell_type": "code",
   "execution_count": 2,
   "metadata": {},
   "outputs": [],
   "source": [
    "sys.path.insert(0, '..')\n",
    "tqdm.pandas()"
   ]
  },
  {
   "cell_type": "code",
   "execution_count": 3,
   "metadata": {},
   "outputs": [],
   "source": [
    "from functions.data_prepare import prepare_dataset, get_doc_text, prepare_sents_dataset\n",
    "from functions.utils import save_file"
   ]
  },
  {
   "cell_type": "code",
   "execution_count": 4,
   "metadata": {},
   "outputs": [],
   "source": [
    "from jupyterthemes import jtplot\n",
    "jtplot.reset()\n",
    "sns.set(rc={'figure.figsize': (6, 4)})"
   ]
  },
  {
   "cell_type": "code",
   "execution_count": 5,
   "metadata": {},
   "outputs": [],
   "source": [
    "CONTRACT_PATH = Path('../docs')\n",
    "target_fn = 'classes.json'"
   ]
  },
  {
   "cell_type": "code",
   "execution_count": 6,
   "metadata": {},
   "outputs": [],
   "source": [
    "TRAIN_SIZE = 0.7\n",
    "VAL_SIZE = 0.15\n",
    "TEST_SIZE = 1 - TRAIN_SIZE - VAL_SIZE\n",
    "\n",
    "SEED = 42"
   ]
  },
  {
   "cell_type": "markdown",
   "metadata": {},
   "source": [
    "Посмотрим на мета-данные, которые отдает tika:"
   ]
  },
  {
   "cell_type": "code",
   "execution_count": 7,
   "metadata": {},
   "outputs": [],
   "source": [
    "fn = 'ef140e96384a29057445d0a889f1ad50.doc'"
   ]
  },
  {
   "cell_type": "code",
   "execution_count": 8,
   "metadata": {},
   "outputs": [],
   "source": [
    "with open(CONTRACT_PATH / fn, 'rb') as f:\n",
    "    ret = get_doc_text(f, return_meta=True)"
   ]
  },
  {
   "cell_type": "code",
   "execution_count": 9,
   "metadata": {},
   "outputs": [
    {
     "data": {
      "text/plain": [
       "[{'dc:title': 'ДОГОВОР (СУБ) АРЕНДЫ НЕЖИЛЫХ ПОМЕЩЕНИЙ №  ______'},\n",
       " {'title': 'ДОГОВОР (СУБ) АРЕНДЫ НЕЖИЛЫХ ПОМЕЩЕНИЙ №  ______'}]"
      ]
     },
     "execution_count": 9,
     "metadata": {},
     "output_type": "execute_result"
    }
   ],
   "source": [
    "[{k: v} for k, v in ret['metadata'].items() if 'title' in k]"
   ]
  },
  {
   "cell_type": "code",
   "execution_count": 10,
   "metadata": {},
   "outputs": [
    {
     "data": {
      "text/plain": [
       "[{'date': '2022-12-08T14:16:00Z'},\n",
       " {'meta:creation-date': '2008-10-02T10:28:00Z'},\n",
       " {'meta:save-date': '2022-12-08T14:16:00Z'}]"
      ]
     },
     "execution_count": 10,
     "metadata": {},
     "output_type": "execute_result"
    }
   ],
   "source": [
    "[{k: v} for k, v in ret['metadata'].items() if 'date' in k]"
   ]
  },
  {
   "cell_type": "markdown",
   "metadata": {},
   "source": [
    "## Формирование датасета"
   ]
  },
  {
   "cell_type": "code",
   "execution_count": 11,
   "metadata": {},
   "outputs": [
    {
     "name": "stdout",
     "output_type": "stream",
     "text": [
      "Total documents: 120\n"
     ]
    },
    {
     "name": "stderr",
     "output_type": "stream",
     "text": [
      "DOC/DOCX/PDF/RTF Reading: 100%|██████████████| 120/120 [00:09<00:00, 12.86it/s]\n"
     ]
    }
   ],
   "source": [
    "docs_df = prepare_dataset(CONTRACT_PATH)"
   ]
  },
  {
   "cell_type": "code",
   "execution_count": 12,
   "metadata": {},
   "outputs": [
    {
     "data": {
      "text/html": [
       "<div>\n",
       "<style scoped>\n",
       "    .dataframe tbody tr th:only-of-type {\n",
       "        vertical-align: middle;\n",
       "    }\n",
       "\n",
       "    .dataframe tbody tr th {\n",
       "        vertical-align: top;\n",
       "    }\n",
       "\n",
       "    .dataframe thead th {\n",
       "        text-align: right;\n",
       "    }\n",
       "</style>\n",
       "<table border=\"1\" class=\"dataframe\">\n",
       "  <thead>\n",
       "    <tr style=\"text-align: right;\">\n",
       "      <th></th>\n",
       "      <th>FileName</th>\n",
       "      <th>Format</th>\n",
       "      <th>Content</th>\n",
       "    </tr>\n",
       "  </thead>\n",
       "  <tbody>\n",
       "    <tr>\n",
       "      <th>0</th>\n",
       "      <td>02682d726b725f95b9ee85f751c043d0.doc</td>\n",
       "      <td>doc</td>\n",
       "      <td>ДОГОВОР № ______\\n\\nДОГОВОР\\n\\nг. Москва\\n«___...</td>\n",
       "    </tr>\n",
       "    <tr>\n",
       "      <th>1</th>\n",
       "      <td>03a70fe60be9ecc2a63798a361fc9689.docx</td>\n",
       "      <td>docx</td>\n",
       "      <td>ДОГОВОР \\n\\n№ ______ от «___» ___________ ____...</td>\n",
       "    </tr>\n",
       "    <tr>\n",
       "      <th>2</th>\n",
       "      <td>073a0d372820c3c2bffe9ba24a7ed7af.doc</td>\n",
       "      <td>doc</td>\n",
       "      <td>ДОГОВОР КУПЛИ-ПРОДАЖИ КВАРТИРЫ\\n\\n\\nДОГОВОР \\n...</td>\n",
       "    </tr>\n",
       "    <tr>\n",
       "      <th>3</th>\n",
       "      <td>084edc7dfc3db04e3a3c55c102f47bcb.doc</td>\n",
       "      <td>doc</td>\n",
       "      <td>Договор аренды земельного участка\\n\\n2\\n5\\n\\nД...</td>\n",
       "    </tr>\n",
       "    <tr>\n",
       "      <th>4</th>\n",
       "      <td>086ad48895d2a73854b6151decc28800.pdf</td>\n",
       "      <td>pdf</td>\n",
       "      <td>(Типовая форма) \\n\\nДОГОВОР КУПЛИ-ПРОДАЖИ №___...</td>\n",
       "    </tr>\n",
       "  </tbody>\n",
       "</table>\n",
       "</div>"
      ],
      "text/plain": [
       "                                FileName Format  \\\n",
       "0   02682d726b725f95b9ee85f751c043d0.doc    doc   \n",
       "1  03a70fe60be9ecc2a63798a361fc9689.docx   docx   \n",
       "2   073a0d372820c3c2bffe9ba24a7ed7af.doc    doc   \n",
       "3   084edc7dfc3db04e3a3c55c102f47bcb.doc    doc   \n",
       "4   086ad48895d2a73854b6151decc28800.pdf    pdf   \n",
       "\n",
       "                                             Content  \n",
       "0  ДОГОВОР № ______\\n\\nДОГОВОР\\n\\nг. Москва\\n«___...  \n",
       "1  ДОГОВОР \\n\\n№ ______ от «___» ___________ ____...  \n",
       "2  ДОГОВОР КУПЛИ-ПРОДАЖИ КВАРТИРЫ\\n\\n\\nДОГОВОР \\n...  \n",
       "3  Договор аренды земельного участка\\n\\n2\\n5\\n\\nД...  \n",
       "4  (Типовая форма) \\n\\nДОГОВОР КУПЛИ-ПРОДАЖИ №___...  "
      ]
     },
     "execution_count": 12,
     "metadata": {},
     "output_type": "execute_result"
    }
   ],
   "source": [
    "docs_df.head()"
   ]
  },
  {
   "cell_type": "code",
   "execution_count": 13,
   "metadata": {},
   "outputs": [
    {
     "name": "stdout",
     "output_type": "stream",
     "text": [
      "Количество пустых документов: 0\n"
     ]
    }
   ],
   "source": [
    "print('Количество пустых документов:', (docs_df.Content == '').sum())\n",
    "if (docs_df.Content == '').sum() > 0:\n",
    "    for fn in docs_df[docs_df.Content == ''].FileName.values:\n",
    "        print('\\t', fn)"
   ]
  },
  {
   "cell_type": "code",
   "execution_count": 14,
   "metadata": {},
   "outputs": [],
   "source": [
    "with open(CONTRACT_PATH / target_fn, 'r', encoding='utf-8') as json_file:\n",
    "    target_dict = json.load(json_file)"
   ]
  },
  {
   "cell_type": "code",
   "execution_count": 15,
   "metadata": {},
   "outputs": [],
   "source": [
    "docs_df['target'] = docs_df.FileName.map(target_dict)"
   ]
  },
  {
   "cell_type": "code",
   "execution_count": 16,
   "metadata": {},
   "outputs": [
    {
     "data": {
      "text/html": [
       "<div>\n",
       "<style scoped>\n",
       "    .dataframe tbody tr th:only-of-type {\n",
       "        vertical-align: middle;\n",
       "    }\n",
       "\n",
       "    .dataframe tbody tr th {\n",
       "        vertical-align: top;\n",
       "    }\n",
       "\n",
       "    .dataframe thead th {\n",
       "        text-align: right;\n",
       "    }\n",
       "</style>\n",
       "<table border=\"1\" class=\"dataframe\">\n",
       "  <thead>\n",
       "    <tr style=\"text-align: right;\">\n",
       "      <th></th>\n",
       "      <th>FileName</th>\n",
       "      <th>Format</th>\n",
       "      <th>Content</th>\n",
       "      <th>target</th>\n",
       "    </tr>\n",
       "  </thead>\n",
       "  <tbody>\n",
       "    <tr>\n",
       "      <th>0</th>\n",
       "      <td>02682d726b725f95b9ee85f751c043d0.doc</td>\n",
       "      <td>doc</td>\n",
       "      <td>ДОГОВОР № ______\\n\\nДОГОВОР\\n\\nг. Москва\\n«___...</td>\n",
       "      <td>Договоры для акселератора/Договоры оказания услуг</td>\n",
       "    </tr>\n",
       "    <tr>\n",
       "      <th>1</th>\n",
       "      <td>03a70fe60be9ecc2a63798a361fc9689.docx</td>\n",
       "      <td>docx</td>\n",
       "      <td>ДОГОВОР \\n\\n№ ______ от «___» ___________ ____...</td>\n",
       "      <td>Договоры для акселератора/Договоры подряда</td>\n",
       "    </tr>\n",
       "    <tr>\n",
       "      <th>2</th>\n",
       "      <td>073a0d372820c3c2bffe9ba24a7ed7af.doc</td>\n",
       "      <td>doc</td>\n",
       "      <td>ДОГОВОР КУПЛИ-ПРОДАЖИ КВАРТИРЫ\\n\\n\\nДОГОВОР \\n...</td>\n",
       "      <td>Договоры для акселератора/Договоры купли-продажи</td>\n",
       "    </tr>\n",
       "    <tr>\n",
       "      <th>3</th>\n",
       "      <td>084edc7dfc3db04e3a3c55c102f47bcb.doc</td>\n",
       "      <td>doc</td>\n",
       "      <td>Договор аренды земельного участка\\n\\n2\\n5\\n\\nД...</td>\n",
       "      <td>Договоры для акселератора/Договоры аренды</td>\n",
       "    </tr>\n",
       "    <tr>\n",
       "      <th>4</th>\n",
       "      <td>086ad48895d2a73854b6151decc28800.pdf</td>\n",
       "      <td>pdf</td>\n",
       "      <td>(Типовая форма) \\n\\nДОГОВОР КУПЛИ-ПРОДАЖИ №___...</td>\n",
       "      <td>Договоры для акселератора/Договоры купли-продажи</td>\n",
       "    </tr>\n",
       "  </tbody>\n",
       "</table>\n",
       "</div>"
      ],
      "text/plain": [
       "                                FileName Format  \\\n",
       "0   02682d726b725f95b9ee85f751c043d0.doc    doc   \n",
       "1  03a70fe60be9ecc2a63798a361fc9689.docx   docx   \n",
       "2   073a0d372820c3c2bffe9ba24a7ed7af.doc    doc   \n",
       "3   084edc7dfc3db04e3a3c55c102f47bcb.doc    doc   \n",
       "4   086ad48895d2a73854b6151decc28800.pdf    pdf   \n",
       "\n",
       "                                             Content  \\\n",
       "0  ДОГОВОР № ______\\n\\nДОГОВОР\\n\\nг. Москва\\n«___...   \n",
       "1  ДОГОВОР \\n\\n№ ______ от «___» ___________ ____...   \n",
       "2  ДОГОВОР КУПЛИ-ПРОДАЖИ КВАРТИРЫ\\n\\n\\nДОГОВОР \\n...   \n",
       "3  Договор аренды земельного участка\\n\\n2\\n5\\n\\nД...   \n",
       "4  (Типовая форма) \\n\\nДОГОВОР КУПЛИ-ПРОДАЖИ №___...   \n",
       "\n",
       "                                              target  \n",
       "0  Договоры для акселератора/Договоры оказания услуг  \n",
       "1         Договоры для акселератора/Договоры подряда  \n",
       "2   Договоры для акселератора/Договоры купли-продажи  \n",
       "3          Договоры для акселератора/Договоры аренды  \n",
       "4   Договоры для акселератора/Договоры купли-продажи  "
      ]
     },
     "execution_count": 16,
     "metadata": {},
     "output_type": "execute_result"
    }
   ],
   "source": [
    "docs_df.head()"
   ]
  },
  {
   "cell_type": "code",
   "execution_count": 17,
   "metadata": {},
   "outputs": [
    {
     "data": {
      "text/plain": [
       "120"
      ]
     },
     "execution_count": 17,
     "metadata": {},
     "output_type": "execute_result"
    }
   ],
   "source": [
    "docs_df.shape[0]"
   ]
  },
  {
   "cell_type": "code",
   "execution_count": 18,
   "metadata": {},
   "outputs": [
    {
     "data": {
      "image/png": "[encoded data removed]",
      "text/plain": [
       "<Figure size 600x400 with 1 Axes>"
      ]
     },
     "metadata": {},
     "output_type": "display_data"
    }
   ],
   "source": [
    "docs_df.target.value_counts().plot(kind='barh')\n",
    "plt.title('Тип договора')\n",
    "plt.show()"
   ]
  },
  {
   "cell_type": "code",
   "execution_count": 19,
   "metadata": {},
   "outputs": [
    {
     "data": {
      "image/png": "[encoded data removed]",
      "text/plain": [
       "<Figure size 600x400 with 1 Axes>"
      ]
     },
     "metadata": {},
     "output_type": "display_data"
    }
   ],
   "source": [
    "docs_df.Format.value_counts().plot(kind='barh')\n",
    "plt.title('Тип файла')\n",
    "plt.show()"
   ]
  },
  {
   "cell_type": "code",
   "execution_count": 20,
   "metadata": {},
   "outputs": [],
   "source": [
    "docs_df['ContLen'] = docs_df.Content.apply(lambda x: len(x.split()))"
   ]
  },
  {
   "cell_type": "code",
   "execution_count": 21,
   "metadata": {},
   "outputs": [
    {
     "data": {
      "image/png": "[encoded data removed]",
      "text/plain": [
       "<Figure size 600x400 with 1 Axes>"
      ]
     },
     "metadata": {},
     "output_type": "display_data"
    }
   ],
   "source": [
    "plt.hist(docs_df['ContLen'])\n",
    "plt.title('Кол-во слов в исходных документах')\n",
    "plt.show()"
   ]
  },
  {
   "cell_type": "code",
   "execution_count": 22,
   "metadata": {},
   "outputs": [
    {
     "data": {
      "image/png": "[encoded data removed]",
      "text/plain": [
       "<Figure size 1000x500 with 1 Axes>"
      ]
     },
     "metadata": {},
     "output_type": "display_data"
    }
   ],
   "source": [
    "plt.figure(figsize=(10, 5))\n",
    "sns.boxplot(data=docs_df, y='target', x='ContLen', orient='h')\n",
    "plt.xticks(rotation=90)\n",
    "plt.title('Кол-во слов / Тип договора')\n",
    "plt.show()"
   ]
  },
  {
   "cell_type": "code",
   "execution_count": 23,
   "metadata": {},
   "outputs": [
    {
     "data": {
      "text/html": [
       "<div>\n",
       "<style scoped>\n",
       "    .dataframe tbody tr th:only-of-type {\n",
       "        vertical-align: middle;\n",
       "    }\n",
       "\n",
       "    .dataframe tbody tr th {\n",
       "        vertical-align: top;\n",
       "    }\n",
       "\n",
       "    .dataframe thead th {\n",
       "        text-align: right;\n",
       "    }\n",
       "</style>\n",
       "<table border=\"1\" class=\"dataframe\">\n",
       "  <thead>\n",
       "    <tr style=\"text-align: right;\">\n",
       "      <th></th>\n",
       "      <th>FileName</th>\n",
       "      <th>Format</th>\n",
       "      <th>Content</th>\n",
       "      <th>target</th>\n",
       "      <th>ContLen</th>\n",
       "    </tr>\n",
       "  </thead>\n",
       "  <tbody>\n",
       "    <tr>\n",
       "      <th>0</th>\n",
       "      <td>02682d726b725f95b9ee85f751c043d0.doc</td>\n",
       "      <td>doc</td>\n",
       "      <td>ДОГОВОР № ______\\n\\nДОГОВОР\\n\\nг. Москва\\n«___...</td>\n",
       "      <td>Договоры для акселератора/Договоры оказания услуг</td>\n",
       "      <td>2144</td>\n",
       "    </tr>\n",
       "    <tr>\n",
       "      <th>1</th>\n",
       "      <td>03a70fe60be9ecc2a63798a361fc9689.docx</td>\n",
       "      <td>docx</td>\n",
       "      <td>ДОГОВОР \\n\\n№ ______ от «___» ___________ ____...</td>\n",
       "      <td>Договоры для акселератора/Договоры подряда</td>\n",
       "      <td>1011</td>\n",
       "    </tr>\n",
       "    <tr>\n",
       "      <th>2</th>\n",
       "      <td>073a0d372820c3c2bffe9ba24a7ed7af.doc</td>\n",
       "      <td>doc</td>\n",
       "      <td>ДОГОВОР КУПЛИ-ПРОДАЖИ КВАРТИРЫ\\n\\n\\nДОГОВОР \\n...</td>\n",
       "      <td>Договоры для акселератора/Договоры купли-продажи</td>\n",
       "      <td>922</td>\n",
       "    </tr>\n",
       "    <tr>\n",
       "      <th>3</th>\n",
       "      <td>084edc7dfc3db04e3a3c55c102f47bcb.doc</td>\n",
       "      <td>doc</td>\n",
       "      <td>Договор аренды земельного участка\\n\\n2\\n5\\n\\nД...</td>\n",
       "      <td>Договоры для акселератора/Договоры аренды</td>\n",
       "      <td>2281</td>\n",
       "    </tr>\n",
       "    <tr>\n",
       "      <th>4</th>\n",
       "      <td>086ad48895d2a73854b6151decc28800.pdf</td>\n",
       "      <td>pdf</td>\n",
       "      <td>(Типовая форма) \\n\\nДОГОВОР КУПЛИ-ПРОДАЖИ №___...</td>\n",
       "      <td>Договоры для акселератора/Договоры купли-продажи</td>\n",
       "      <td>1609</td>\n",
       "    </tr>\n",
       "  </tbody>\n",
       "</table>\n",
       "</div>"
      ],
      "text/plain": [
       "                                FileName Format  \\\n",
       "0   02682d726b725f95b9ee85f751c043d0.doc    doc   \n",
       "1  03a70fe60be9ecc2a63798a361fc9689.docx   docx   \n",
       "2   073a0d372820c3c2bffe9ba24a7ed7af.doc    doc   \n",
       "3   084edc7dfc3db04e3a3c55c102f47bcb.doc    doc   \n",
       "4   086ad48895d2a73854b6151decc28800.pdf    pdf   \n",
       "\n",
       "                                             Content  \\\n",
       "0  ДОГОВОР № ______\\n\\nДОГОВОР\\n\\nг. Москва\\n«___...   \n",
       "1  ДОГОВОР \\n\\n№ ______ от «___» ___________ ____...   \n",
       "2  ДОГОВОР КУПЛИ-ПРОДАЖИ КВАРТИРЫ\\n\\n\\nДОГОВОР \\n...   \n",
       "3  Договор аренды земельного участка\\n\\n2\\n5\\n\\nД...   \n",
       "4  (Типовая форма) \\n\\nДОГОВОР КУПЛИ-ПРОДАЖИ №___...   \n",
       "\n",
       "                                              target  ContLen  \n",
       "0  Договоры для акселератора/Договоры оказания услуг     2144  \n",
       "1         Договоры для акселератора/Договоры подряда     1011  \n",
       "2   Договоры для акселератора/Договоры купли-продажи      922  \n",
       "3          Договоры для акселератора/Договоры аренды     2281  \n",
       "4   Договоры для акселератора/Договоры купли-продажи     1609  "
      ]
     },
     "execution_count": 23,
     "metadata": {},
     "output_type": "execute_result"
    }
   ],
   "source": [
    "docs_df.head()"
   ]
  },
  {
   "cell_type": "code",
   "execution_count": 24,
   "metadata": {},
   "outputs": [],
   "source": [
    "train_all, test_idx = train_test_split(docs_df.index, test_size=int(TEST_SIZE * docs_df.shape[0]), shuffle=True,\n",
    "                                       stratify=docs_df.target, random_state=SEED)\n",
    "\n",
    "train_idx, val_idx = train_test_split(train_all, train_size=int(TRAIN_SIZE * docs_df.shape[0]), shuffle=True,\n",
    "                                      stratify=docs_df[docs_df.index.isin(train_all)].target, random_state=SEED)"
   ]
  },
  {
   "cell_type": "code",
   "execution_count": 25,
   "metadata": {},
   "outputs": [
    {
     "data": {
      "text/plain": [
       "(84, 18, 18)"
      ]
     },
     "execution_count": 25,
     "metadata": {},
     "output_type": "execute_result"
    }
   ],
   "source": [
    "len(train_idx), len(val_idx), len(test_idx)"
   ]
  },
  {
   "cell_type": "code",
   "execution_count": 26,
   "metadata": {},
   "outputs": [],
   "source": [
    "docs_df.loc[docs_df.index.isin(train_idx), 'Split'] = 'train'\n",
    "docs_df.loc[docs_df.index.isin(val_idx), 'Split'] = 'val'\n",
    "docs_df.loc[docs_df.index.isin(test_idx), 'Split'] = 'test'"
   ]
  },
  {
   "cell_type": "code",
   "execution_count": 27,
   "metadata": {},
   "outputs": [
    {
     "data": {
      "text/html": [
       "<div>\n",
       "<style scoped>\n",
       "    .dataframe tbody tr th:only-of-type {\n",
       "        vertical-align: middle;\n",
       "    }\n",
       "\n",
       "    .dataframe tbody tr th {\n",
       "        vertical-align: top;\n",
       "    }\n",
       "\n",
       "    .dataframe thead th {\n",
       "        text-align: right;\n",
       "    }\n",
       "</style>\n",
       "<table border=\"1\" class=\"dataframe\">\n",
       "  <thead>\n",
       "    <tr style=\"text-align: right;\">\n",
       "      <th></th>\n",
       "      <th>FileName</th>\n",
       "      <th>Format</th>\n",
       "      <th>Content</th>\n",
       "      <th>target</th>\n",
       "      <th>ContLen</th>\n",
       "      <th>Split</th>\n",
       "    </tr>\n",
       "  </thead>\n",
       "  <tbody>\n",
       "    <tr>\n",
       "      <th>0</th>\n",
       "      <td>02682d726b725f95b9ee85f751c043d0.doc</td>\n",
       "      <td>doc</td>\n",
       "      <td>ДОГОВОР № ______\\n\\nДОГОВОР\\n\\nг. Москва\\n«___...</td>\n",
       "      <td>Договоры для акселератора/Договоры оказания услуг</td>\n",
       "      <td>2144</td>\n",
       "      <td>train</td>\n",
       "    </tr>\n",
       "    <tr>\n",
       "      <th>1</th>\n",
       "      <td>03a70fe60be9ecc2a63798a361fc9689.docx</td>\n",
       "      <td>docx</td>\n",
       "      <td>ДОГОВОР \\n\\n№ ______ от «___» ___________ ____...</td>\n",
       "      <td>Договоры для акселератора/Договоры подряда</td>\n",
       "      <td>1011</td>\n",
       "      <td>val</td>\n",
       "    </tr>\n",
       "    <tr>\n",
       "      <th>2</th>\n",
       "      <td>073a0d372820c3c2bffe9ba24a7ed7af.doc</td>\n",
       "      <td>doc</td>\n",
       "      <td>ДОГОВОР КУПЛИ-ПРОДАЖИ КВАРТИРЫ\\n\\n\\nДОГОВОР \\n...</td>\n",
       "      <td>Договоры для акселератора/Договоры купли-продажи</td>\n",
       "      <td>922</td>\n",
       "      <td>val</td>\n",
       "    </tr>\n",
       "    <tr>\n",
       "      <th>3</th>\n",
       "      <td>084edc7dfc3db04e3a3c55c102f47bcb.doc</td>\n",
       "      <td>doc</td>\n",
       "      <td>Договор аренды земельного участка\\n\\n2\\n5\\n\\nД...</td>\n",
       "      <td>Договоры для акселератора/Договоры аренды</td>\n",
       "      <td>2281</td>\n",
       "      <td>val</td>\n",
       "    </tr>\n",
       "    <tr>\n",
       "      <th>4</th>\n",
       "      <td>086ad48895d2a73854b6151decc28800.pdf</td>\n",
       "      <td>pdf</td>\n",
       "      <td>(Типовая форма) \\n\\nДОГОВОР КУПЛИ-ПРОДАЖИ №___...</td>\n",
       "      <td>Договоры для акселератора/Договоры купли-продажи</td>\n",
       "      <td>1609</td>\n",
       "      <td>val</td>\n",
       "    </tr>\n",
       "  </tbody>\n",
       "</table>\n",
       "</div>"
      ],
      "text/plain": [
       "                                FileName Format  \\\n",
       "0   02682d726b725f95b9ee85f751c043d0.doc    doc   \n",
       "1  03a70fe60be9ecc2a63798a361fc9689.docx   docx   \n",
       "2   073a0d372820c3c2bffe9ba24a7ed7af.doc    doc   \n",
       "3   084edc7dfc3db04e3a3c55c102f47bcb.doc    doc   \n",
       "4   086ad48895d2a73854b6151decc28800.pdf    pdf   \n",
       "\n",
       "                                             Content  \\\n",
       "0  ДОГОВОР № ______\\n\\nДОГОВОР\\n\\nг. Москва\\n«___...   \n",
       "1  ДОГОВОР \\n\\n№ ______ от «___» ___________ ____...   \n",
       "2  ДОГОВОР КУПЛИ-ПРОДАЖИ КВАРТИРЫ\\n\\n\\nДОГОВОР \\n...   \n",
       "3  Договор аренды земельного участка\\n\\n2\\n5\\n\\nД...   \n",
       "4  (Типовая форма) \\n\\nДОГОВОР КУПЛИ-ПРОДАЖИ №___...   \n",
       "\n",
       "                                              target  ContLen  Split  \n",
       "0  Договоры для акселератора/Договоры оказания услуг     2144  train  \n",
       "1         Договоры для акселератора/Договоры подряда     1011    val  \n",
       "2   Договоры для акселератора/Договоры купли-продажи      922    val  \n",
       "3          Договоры для акселератора/Договоры аренды     2281    val  \n",
       "4   Договоры для акселератора/Договоры купли-продажи     1609    val  "
      ]
     },
     "execution_count": 27,
     "metadata": {},
     "output_type": "execute_result"
    }
   ],
   "source": [
    "docs_df.head()"
   ]
  },
  {
   "cell_type": "code",
   "execution_count": 28,
   "metadata": {},
   "outputs": [
    {
     "data": {
      "text/plain": [
       "train    84\n",
       "val      18\n",
       "test     18\n",
       "Name: Split, dtype: int64"
      ]
     },
     "execution_count": 28,
     "metadata": {},
     "output_type": "execute_result"
    }
   ],
   "source": [
    "docs_df.Split.value_counts()"
   ]
  },
  {
   "cell_type": "code",
   "execution_count": 29,
   "metadata": {},
   "outputs": [
    {
     "data": {
      "text/plain": [
       "Split  target                                           \n",
       "test   Договоры для акселератора/Договоры оказания услуг    0.277778\n",
       "       Договоры для акселератора/Договоры купли-продажи     0.222222\n",
       "       Договоры для акселератора/Договоры аренды            0.166667\n",
       "       Договоры для акселератора/Договоры подряда           0.166667\n",
       "       Договоры для акселератора/Договоры поставки          0.166667\n",
       "train  Договоры для акселератора/Договоры оказания услуг    0.285714\n",
       "       Договоры для акселератора/Договоры аренды            0.202381\n",
       "       Договоры для акселератора/Договоры поставки          0.178571\n",
       "       Договоры для акселератора/Договоры купли-продажи     0.166667\n",
       "       Договоры для акселератора/Договоры подряда           0.166667\n",
       "val    Договоры для акселератора/Договоры купли-продажи     0.277778\n",
       "       Договоры для акселератора/Договоры подряда           0.222222\n",
       "       Договоры для акселератора/Договоры аренды            0.166667\n",
       "       Договоры для акселератора/Договоры оказания услуг    0.166667\n",
       "       Договоры для акселератора/Договоры поставки          0.166667\n",
       "Name: target, dtype: float64"
      ]
     },
     "execution_count": 29,
     "metadata": {},
     "output_type": "execute_result"
    }
   ],
   "source": [
    "docs_df.groupby('Split').target.value_counts(normalize=True)"
   ]
  },
  {
   "cell_type": "code",
   "execution_count": 30,
   "metadata": {},
   "outputs": [
    {
     "name": "stderr",
     "output_type": "stream",
     "text": [
      "120it [00:01, 79.90it/s]\n"
     ]
    }
   ],
   "source": [
    "sents_df = prepare_sents_dataset(docs_df, min_sym_cnt=100)"
   ]
  },
  {
   "cell_type": "code",
   "execution_count": 31,
   "metadata": {},
   "outputs": [
    {
     "data": {
      "text/html": [
       "<div>\n",
       "<style scoped>\n",
       "    .dataframe tbody tr th:only-of-type {\n",
       "        vertical-align: middle;\n",
       "    }\n",
       "\n",
       "    .dataframe tbody tr th {\n",
       "        vertical-align: top;\n",
       "    }\n",
       "\n",
       "    .dataframe thead th {\n",
       "        text-align: right;\n",
       "    }\n",
       "</style>\n",
       "<table border=\"1\" class=\"dataframe\">\n",
       "  <thead>\n",
       "    <tr style=\"text-align: right;\">\n",
       "      <th></th>\n",
       "      <th>file_name</th>\n",
       "      <th>snt_order</th>\n",
       "      <th>sentence</th>\n",
       "      <th>sentence_clear</th>\n",
       "      <th>data_split</th>\n",
       "      <th>target</th>\n",
       "    </tr>\n",
       "  </thead>\n",
       "  <tbody>\n",
       "    <tr>\n",
       "      <th>0</th>\n",
       "      <td>02682d726b725f95b9ee85f751c043d0.doc</td>\n",
       "      <td>1</td>\n",
       "      <td>ДОГОВОР № ______ ДОГОВОР Москва «_____» ______...</td>\n",
       "      <td>договор договор москва года гражданин рф года ...</td>\n",
       "      <td>train</td>\n",
       "      <td>Договоры оказания услуг</td>\n",
       "    </tr>\n",
       "    <tr>\n",
       "      <th>1</th>\n",
       "      <td>02682d726b725f95b9ee85f751c043d0.doc</td>\n",
       "      <td>2</td>\n",
       "      <td>Предмет Договора. 1.1. Заказчик поручает, а Ис...</td>\n",
       "      <td>предмет договора заказчик поручает а исполните...</td>\n",
       "      <td>train</td>\n",
       "      <td>Договоры оказания услуг</td>\n",
       "    </tr>\n",
       "    <tr>\n",
       "      <th>2</th>\n",
       "      <td>02682d726b725f95b9ee85f751c043d0.doc</td>\n",
       "      <td>3</td>\n",
       "      <td>Объект недвижимости находится на _____ этаже _...</td>\n",
       "      <td>объект недвижимости находится на этаже этажног...</td>\n",
       "      <td>train</td>\n",
       "      <td>Договоры оказания услуг</td>\n",
       "    </tr>\n",
       "    <tr>\n",
       "      <th>3</th>\n",
       "      <td>02682d726b725f95b9ee85f751c043d0.doc</td>\n",
       "      <td>4</td>\n",
       "      <td>Объект недвижимости не обременен правами други...</td>\n",
       "      <td>объект недвижимости не обременен правами други...</td>\n",
       "      <td>train</td>\n",
       "      <td>Договоры оказания услуг</td>\n",
       "    </tr>\n",
       "    <tr>\n",
       "      <th>4</th>\n",
       "      <td>02682d726b725f95b9ee85f751c043d0.doc</td>\n",
       "      <td>5</td>\n",
       "      <td>Требования Заказчика к условиям совершения сде...</td>\n",
       "      <td>требования заказчика к условиям совершения сде...</td>\n",
       "      <td>train</td>\n",
       "      <td>Договоры оказания услуг</td>\n",
       "    </tr>\n",
       "  </tbody>\n",
       "</table>\n",
       "</div>"
      ],
      "text/plain": [
       "                              file_name  snt_order  \\\n",
       "0  02682d726b725f95b9ee85f751c043d0.doc          1   \n",
       "1  02682d726b725f95b9ee85f751c043d0.doc          2   \n",
       "2  02682d726b725f95b9ee85f751c043d0.doc          3   \n",
       "3  02682d726b725f95b9ee85f751c043d0.doc          4   \n",
       "4  02682d726b725f95b9ee85f751c043d0.doc          5   \n",
       "\n",
       "                                            sentence  \\\n",
       "0  ДОГОВОР № ______ ДОГОВОР Москва «_____» ______...   \n",
       "1  Предмет Договора. 1.1. Заказчик поручает, а Ис...   \n",
       "2  Объект недвижимости находится на _____ этаже _...   \n",
       "3  Объект недвижимости не обременен правами други...   \n",
       "4  Требования Заказчика к условиям совершения сде...   \n",
       "\n",
       "                                      sentence_clear data_split  \\\n",
       "0  договор договор москва года гражданин рф года ...      train   \n",
       "1  предмет договора заказчик поручает а исполните...      train   \n",
       "2  объект недвижимости находится на этаже этажног...      train   \n",
       "3  объект недвижимости не обременен правами други...      train   \n",
       "4  требования заказчика к условиям совершения сде...      train   \n",
       "\n",
       "                    target  \n",
       "0  Договоры оказания услуг  \n",
       "1  Договоры оказания услуг  \n",
       "2  Договоры оказания услуг  \n",
       "3  Договоры оказания услуг  \n",
       "4  Договоры оказания услуг  "
      ]
     },
     "execution_count": 31,
     "metadata": {},
     "output_type": "execute_result"
    }
   ],
   "source": [
    "sents_df.head()"
   ]
  },
  {
   "cell_type": "code",
   "execution_count": 32,
   "metadata": {},
   "outputs": [
    {
     "data": {
      "text/html": [
       "<div>\n",
       "<style scoped>\n",
       "    .dataframe tbody tr th:only-of-type {\n",
       "        vertical-align: middle;\n",
       "    }\n",
       "\n",
       "    .dataframe tbody tr th {\n",
       "        vertical-align: top;\n",
       "    }\n",
       "\n",
       "    .dataframe thead th {\n",
       "        text-align: right;\n",
       "    }\n",
       "</style>\n",
       "<table border=\"1\" class=\"dataframe\">\n",
       "  <thead>\n",
       "    <tr style=\"text-align: right;\">\n",
       "      <th></th>\n",
       "      <th>file_name</th>\n",
       "      <th>snt_order</th>\n",
       "      <th>sentence</th>\n",
       "      <th>sentence_clear</th>\n",
       "      <th>data_split</th>\n",
       "      <th>target</th>\n",
       "    </tr>\n",
       "  </thead>\n",
       "  <tbody>\n",
       "    <tr>\n",
       "      <th>7092</th>\n",
       "      <td>ff6882cb4a3ec31dec18a94e1d1745b1.doc</td>\n",
       "      <td>47</td>\n",
       "      <td>8.3. Настоящий договор действует до момента ок...</td>\n",
       "      <td>настоящий договор действует до момента окончан...</td>\n",
       "      <td>test</td>\n",
       "      <td>Договоры купли-продажи</td>\n",
       "    </tr>\n",
       "    <tr>\n",
       "      <th>7093</th>\n",
       "      <td>ff6882cb4a3ec31dec18a94e1d1745b1.doc</td>\n",
       "      <td>48</td>\n",
       "      <td>8.4. Настоящий договор не является заключенным...</td>\n",
       "      <td>настоящий договор не является заключенным с ус...</td>\n",
       "      <td>test</td>\n",
       "      <td>Договоры купли-продажи</td>\n",
       "    </tr>\n",
       "    <tr>\n",
       "      <th>7094</th>\n",
       "      <td>ff6882cb4a3ec31dec18a94e1d1745b1.doc</td>\n",
       "      <td>49</td>\n",
       "      <td>8.5. Настоящий договор подписан в двух экземпл...</td>\n",
       "      <td>настоящий договор подписан в двух экземплярах ...</td>\n",
       "      <td>test</td>\n",
       "      <td>Договоры купли-продажи</td>\n",
       "    </tr>\n",
       "    <tr>\n",
       "      <th>7095</th>\n",
       "      <td>ff6882cb4a3ec31dec18a94e1d1745b1.doc</td>\n",
       "      <td>50</td>\n",
       "      <td>8.6. Во всем остальном, что не предусмотрено н...</td>\n",
       "      <td>во всем остальном что не предусмотрено настоящ...</td>\n",
       "      <td>test</td>\n",
       "      <td>Договоры купли-продажи</td>\n",
       "    </tr>\n",
       "    <tr>\n",
       "      <th>7096</th>\n",
       "      <td>ff6882cb4a3ec31dec18a94e1d1745b1.doc</td>\n",
       "      <td>51</td>\n",
       "      <td>9. Реквизиты Продавца и Покупателя Продавец: О...</td>\n",
       "      <td>реквизиты продавца и покупателя продавец огрн ...</td>\n",
       "      <td>test</td>\n",
       "      <td>Договоры купли-продажи</td>\n",
       "    </tr>\n",
       "  </tbody>\n",
       "</table>\n",
       "</div>"
      ],
      "text/plain": [
       "                                 file_name  snt_order  \\\n",
       "7092  ff6882cb4a3ec31dec18a94e1d1745b1.doc         47   \n",
       "7093  ff6882cb4a3ec31dec18a94e1d1745b1.doc         48   \n",
       "7094  ff6882cb4a3ec31dec18a94e1d1745b1.doc         49   \n",
       "7095  ff6882cb4a3ec31dec18a94e1d1745b1.doc         50   \n",
       "7096  ff6882cb4a3ec31dec18a94e1d1745b1.doc         51   \n",
       "\n",
       "                                               sentence  \\\n",
       "7092  8.3. Настоящий договор действует до момента ок...   \n",
       "7093  8.4. Настоящий договор не является заключенным...   \n",
       "7094  8.5. Настоящий договор подписан в двух экземпл...   \n",
       "7095  8.6. Во всем остальном, что не предусмотрено н...   \n",
       "7096  9. Реквизиты Продавца и Покупателя Продавец: О...   \n",
       "\n",
       "                                         sentence_clear data_split  \\\n",
       "7092  настоящий договор действует до момента окончан...       test   \n",
       "7093  настоящий договор не является заключенным с ус...       test   \n",
       "7094  настоящий договор подписан в двух экземплярах ...       test   \n",
       "7095  во всем остальном что не предусмотрено настоящ...       test   \n",
       "7096  реквизиты продавца и покупателя продавец огрн ...       test   \n",
       "\n",
       "                      target  \n",
       "7092  Договоры купли-продажи  \n",
       "7093  Договоры купли-продажи  \n",
       "7094  Договоры купли-продажи  \n",
       "7095  Договоры купли-продажи  \n",
       "7096  Договоры купли-продажи  "
      ]
     },
     "execution_count": 32,
     "metadata": {},
     "output_type": "execute_result"
    }
   ],
   "source": [
    "sents_df.tail()"
   ]
  },
  {
   "cell_type": "code",
   "execution_count": 33,
   "metadata": {},
   "outputs": [
    {
     "data": {
      "text/html": [
       "<div>\n",
       "<style scoped>\n",
       "    .dataframe tbody tr th:only-of-type {\n",
       "        vertical-align: middle;\n",
       "    }\n",
       "\n",
       "    .dataframe tbody tr th {\n",
       "        vertical-align: top;\n",
       "    }\n",
       "\n",
       "    .dataframe thead th {\n",
       "        text-align: right;\n",
       "    }\n",
       "</style>\n",
       "<table border=\"1\" class=\"dataframe\">\n",
       "  <thead>\n",
       "    <tr style=\"text-align: right;\">\n",
       "      <th></th>\n",
       "      <th>file_name</th>\n",
       "      <th>snt_order</th>\n",
       "      <th>sentence</th>\n",
       "      <th>sentence_clear</th>\n",
       "      <th>data_split</th>\n",
       "      <th>target</th>\n",
       "    </tr>\n",
       "  </thead>\n",
       "  <tbody>\n",
       "    <tr>\n",
       "      <th>3330</th>\n",
       "      <td>736cc87395089b9611b0db70d2999d75.pdf</td>\n",
       "      <td>59</td>\n",
       "      <td>8. Дополнительные условия 8.1 ЗАКАЗЧИК обязует...</td>\n",
       "      <td>дополнительные условия заказчик обязуется раск...</td>\n",
       "      <td>train</td>\n",
       "      <td>Договоры оказания услуг</td>\n",
       "    </tr>\n",
       "    <tr>\n",
       "      <th>7060</th>\n",
       "      <td>ff6882cb4a3ec31dec18a94e1d1745b1.doc</td>\n",
       "      <td>15</td>\n",
       "      <td>2.2.5. Продавец имеет и иные права и обязаннос...</td>\n",
       "      <td>продавец имеет и иные права и обязанности пред...</td>\n",
       "      <td>test</td>\n",
       "      <td>Договоры купли-продажи</td>\n",
       "    </tr>\n",
       "    <tr>\n",
       "      <th>3503</th>\n",
       "      <td>79104075f8b2ff971d51c495e67af52c.pdf</td>\n",
       "      <td>20</td>\n",
       "      <td>Обеспечивать рекламно-информационную поддержку...</td>\n",
       "      <td>обеспечивать рекламно информационную поддержку...</td>\n",
       "      <td>train</td>\n",
       "      <td>Договоры поставки</td>\n",
       "    </tr>\n",
       "    <tr>\n",
       "      <th>145</th>\n",
       "      <td>084edc7dfc3db04e3a3c55c102f47bcb.doc</td>\n",
       "      <td>5</td>\n",
       "      <td>Кадастровый номер Участка - __________________...</td>\n",
       "      <td>кадастровый номер участка разрешенное использо...</td>\n",
       "      <td>val</td>\n",
       "      <td>Договоры аренды</td>\n",
       "    </tr>\n",
       "    <tr>\n",
       "      <th>3691</th>\n",
       "      <td>7a120d4c7cec157324effa671e2d0812.docx</td>\n",
       "      <td>121</td>\n",
       "      <td>6. Качество 6.1. На выполненную Работу по пред...</td>\n",
       "      <td>качество на выполненную работу по предмету дог...</td>\n",
       "      <td>val</td>\n",
       "      <td>Договоры подряда</td>\n",
       "    </tr>\n",
       "    <tr>\n",
       "      <th>3312</th>\n",
       "      <td>736cc87395089b9611b0db70d2999d75.pdf</td>\n",
       "      <td>41</td>\n",
       "      <td>Счет-фактура в электронном виде считается полу...</td>\n",
       "      <td>счет фактура в электронном виде считается полу...</td>\n",
       "      <td>train</td>\n",
       "      <td>Договоры оказания услуг</td>\n",
       "    </tr>\n",
       "    <tr>\n",
       "      <th>1062</th>\n",
       "      <td>259b481366842141111305897cce7486.docx</td>\n",
       "      <td>13</td>\n",
       "      <td>Сумма дополнительных расходов Исполнителя по д...</td>\n",
       "      <td>сумма дополнительных расходов исполнителя по д...</td>\n",
       "      <td>train</td>\n",
       "      <td>Договоры оказания услуг</td>\n",
       "    </tr>\n",
       "    <tr>\n",
       "      <th>5503</th>\n",
       "      <td>abcec818adbe358f8071a75e0fe2cc49.pdf</td>\n",
       "      <td>3</td>\n",
       "      <td>1.2. Ассортимент, количество, цена единицы тов...</td>\n",
       "      <td>ассортимент количество цена единицы товара и о...</td>\n",
       "      <td>train</td>\n",
       "      <td>Договоры купли-продажи</td>\n",
       "    </tr>\n",
       "    <tr>\n",
       "      <th>1894</th>\n",
       "      <td>453b2cb6e4ba7b8d1a8382773880d313.doc</td>\n",
       "      <td>36</td>\n",
       "      <td>7.7. Стороны могут предусматривать в Заказах о...</td>\n",
       "      <td>стороны могут предусматривать в заказах особен...</td>\n",
       "      <td>train</td>\n",
       "      <td>Договоры подряда</td>\n",
       "    </tr>\n",
       "    <tr>\n",
       "      <th>317</th>\n",
       "      <td>0b4be82b86eff410d69d1d6b5553d220.docx</td>\n",
       "      <td>58</td>\n",
       "      <td>&lt;8&gt; Стороны по своему усмотрению вправе дополн...</td>\n",
       "      <td>стороны по своему усмотрению вправе дополнить ...</td>\n",
       "      <td>train</td>\n",
       "      <td>Договоры оказания услуг</td>\n",
       "    </tr>\n",
       "  </tbody>\n",
       "</table>\n",
       "</div>"
      ],
      "text/plain": [
       "                                  file_name  snt_order  \\\n",
       "3330   736cc87395089b9611b0db70d2999d75.pdf         59   \n",
       "7060   ff6882cb4a3ec31dec18a94e1d1745b1.doc         15   \n",
       "3503   79104075f8b2ff971d51c495e67af52c.pdf         20   \n",
       "145    084edc7dfc3db04e3a3c55c102f47bcb.doc          5   \n",
       "3691  7a120d4c7cec157324effa671e2d0812.docx        121   \n",
       "3312   736cc87395089b9611b0db70d2999d75.pdf         41   \n",
       "1062  259b481366842141111305897cce7486.docx         13   \n",
       "5503   abcec818adbe358f8071a75e0fe2cc49.pdf          3   \n",
       "1894   453b2cb6e4ba7b8d1a8382773880d313.doc         36   \n",
       "317   0b4be82b86eff410d69d1d6b5553d220.docx         58   \n",
       "\n",
       "                                               sentence  \\\n",
       "3330  8. Дополнительные условия 8.1 ЗАКАЗЧИК обязует...   \n",
       "7060  2.2.5. Продавец имеет и иные права и обязаннос...   \n",
       "3503  Обеспечивать рекламно-информационную поддержку...   \n",
       "145   Кадастровый номер Участка - __________________...   \n",
       "3691  6. Качество 6.1. На выполненную Работу по пред...   \n",
       "3312  Счет-фактура в электронном виде считается полу...   \n",
       "1062  Сумма дополнительных расходов Исполнителя по д...   \n",
       "5503  1.2. Ассортимент, количество, цена единицы тов...   \n",
       "1894  7.7. Стороны могут предусматривать в Заказах о...   \n",
       "317   <8> Стороны по своему усмотрению вправе дополн...   \n",
       "\n",
       "                                         sentence_clear data_split  \\\n",
       "3330  дополнительные условия заказчик обязуется раск...      train   \n",
       "7060  продавец имеет и иные права и обязанности пред...       test   \n",
       "3503  обеспечивать рекламно информационную поддержку...      train   \n",
       "145   кадастровый номер участка разрешенное использо...        val   \n",
       "3691  качество на выполненную работу по предмету дог...        val   \n",
       "3312  счет фактура в электронном виде считается полу...      train   \n",
       "1062  сумма дополнительных расходов исполнителя по д...      train   \n",
       "5503  ассортимент количество цена единицы товара и о...      train   \n",
       "1894  стороны могут предусматривать в заказах особен...      train   \n",
       "317   стороны по своему усмотрению вправе дополнить ...      train   \n",
       "\n",
       "                       target  \n",
       "3330  Договоры оказания услуг  \n",
       "7060   Договоры купли-продажи  \n",
       "3503        Договоры поставки  \n",
       "145           Договоры аренды  \n",
       "3691         Договоры подряда  \n",
       "3312  Договоры оказания услуг  \n",
       "1062  Договоры оказания услуг  \n",
       "5503   Договоры купли-продажи  \n",
       "1894         Договоры подряда  \n",
       "317   Договоры оказания услуг  "
      ]
     },
     "execution_count": 33,
     "metadata": {},
     "output_type": "execute_result"
    }
   ],
   "source": [
    "sents_df.sample(10)"
   ]
  },
  {
   "cell_type": "code",
   "execution_count": 34,
   "metadata": {},
   "outputs": [],
   "source": [
    "sents_df['sent_clear_len'] = sents_df.sentence_clear.apply(lambda x: len(x.split()))"
   ]
  },
  {
   "cell_type": "code",
   "execution_count": 35,
   "metadata": {},
   "outputs": [
    {
     "data": {
      "text/plain": [
       "7"
      ]
     },
     "execution_count": 35,
     "metadata": {},
     "output_type": "execute_result"
    }
   ],
   "source": [
    "(sents_df.sent_clear_len == 0).sum()"
   ]
  },
  {
   "cell_type": "code",
   "execution_count": 36,
   "metadata": {},
   "outputs": [],
   "source": [
    "sents_df = sents_df[sents_df.sent_clear_len > 0]"
   ]
  },
  {
   "cell_type": "code",
   "execution_count": 37,
   "metadata": {},
   "outputs": [
    {
     "data": {
      "text/plain": [
       "7090"
      ]
     },
     "execution_count": 37,
     "metadata": {},
     "output_type": "execute_result"
    }
   ],
   "source": [
    "sents_df.shape[0]"
   ]
  },
  {
   "cell_type": "code",
   "execution_count": 38,
   "metadata": {},
   "outputs": [
    {
     "data": {
      "image/png": "[encoded data removed]",
      "text/plain": [
       "<Figure size 600x400 with 1 Axes>"
      ]
     },
     "metadata": {},
     "output_type": "display_data"
    }
   ],
   "source": [
    "plt.hist(sents_df['sent_clear_len'], bins=50, range=(0, 100))\n",
    "plt.title('Кол-во слов в очищенных предложениях')\n",
    "plt.show()"
   ]
  },
  {
   "cell_type": "code",
   "execution_count": 39,
   "metadata": {},
   "outputs": [
    {
     "data": {
      "text/plain": [
       "array([ 56.  ,  92.  , 112.11])"
      ]
     },
     "execution_count": 39,
     "metadata": {},
     "output_type": "execute_result"
    }
   ],
   "source": [
    "np.quantile(sents_df['sent_clear_len'], [0.95, 0.99, 0.995])"
   ]
  },
  {
   "cell_type": "code",
   "execution_count": 40,
   "metadata": {},
   "outputs": [
    {
     "data": {
      "image/png": "[encoded data removed]",
      "text/plain": [
       "<Figure size 600x400 with 1 Axes>"
      ]
     },
     "metadata": {},
     "output_type": "display_data"
    }
   ],
   "source": [
    "plt.hist(sents_df['sentence_clear'].apply(len), bins=50, range=(0, 1000))\n",
    "plt.title('Кол-во символов в очищенных предложениях')\n",
    "plt.show()"
   ]
  },
  {
   "cell_type": "code",
   "execution_count": 41,
   "metadata": {},
   "outputs": [
    {
     "data": {
      "text/plain": [
       "'Done'"
      ]
     },
     "execution_count": 41,
     "metadata": {},
     "output_type": "execute_result"
    }
   ],
   "source": [
    "save_file(sents_df, CONTRACT_PATH / 'sents_df_100.pkl')"
   ]
  },
  {
   "cell_type": "code",
   "execution_count": null,
   "metadata": {},
   "outputs": [],
   "source": []
  }
 ],
 "metadata": {
  "kernelspec": {
   "display_name": "Python 3",
   "language": "python",
   "name": "python3"
  },
  "language_info": {
   "codemirror_mode": {
    "name": "ipython",
    "version": 3
   },
   "file_extension": ".py",
   "mimetype": "text/x-python",
   "name": "python",
   "nbconvert_exporter": "python",
   "pygments_lexer": "ipython3",
   "version": "3.8.5"
  }
 },
 "nbformat": 4,
 "nbformat_minor": 4
}
