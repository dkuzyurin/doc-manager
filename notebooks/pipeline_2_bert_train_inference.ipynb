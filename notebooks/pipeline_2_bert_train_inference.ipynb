{
  "nbformat": 4,
  "nbformat_minor": 0,
  "metadata": {
    "colab": {
      "provenance": []
    },
    "kernelspec": {
      "name": "python3",
      "display_name": "Python 3"
    },
    "language_info": {
      "name": "python"
    },
    "gpuClass": "standard",
    "accelerator": "GPU"
  },
  "cells": [
    {
      "cell_type": "code",
      "execution_count": 1,
      "metadata": {
        "colab": {
          "base_uri": "https://localhost:8080/"
        },
        "id": "wdLm9tcdDSk0",
        "outputId": "7b388ec7-83c5-4dd7-b2ff-8afee07ebd9d"
      },
      "outputs": [
        {
          "output_type": "stream",
          "name": "stdout",
          "text": [
            "Downloading...\n",
            "From: https://drive.google.com/uc?id=1pNUpy1poeGXTiSAXtBBqBD0RWj8qzjsF\n",
            "To: /content/sents_df_100.pkl\n",
            "\r  0% 0.00/6.28M [00:00<?, ?B/s]\r100% 6.28M/6.28M [00:00<00:00, 309MB/s]\n"
          ]
        }
      ],
      "source": [
        "# !gdown 1dG0ZLEpkGbXEp-YEIh5cE3puWRSrmxy5\n",
        "# !gdown 11eeqeYvccC4MBOgOUMMKjJgxws-Be4vC\n",
        "# !gdown 1qf_OCmZSFf7X2TCmErSfp1J2J458_Mhv\n",
        "!gdown 1pNUpy1poeGXTiSAXtBBqBD0RWj8qzjsF"
      ]
    },
    {
      "cell_type": "code",
      "source": [
        "import pandas as pd\n",
        "import torch\n",
        "import numpy as np\n",
        "from sklearn.metrics import classification_report\n",
        "from pathlib import Path\n",
        "import sys\n",
        "import matplotlib.pyplot as plt"
      ],
      "metadata": {
        "id": "BwRVoOzeEXkw"
      },
      "execution_count": 39,
      "outputs": []
    },
    {
      "cell_type": "code",
      "source": [
        "sys.path.insert(0, '..')"
      ],
      "metadata": {
        "id": "q5QwyAr7PI5w"
      },
      "execution_count": 3,
      "outputs": []
    },
    {
      "cell_type": "code",
      "source": [
        "from functions.utils import get_file, save_file\n",
        "from functions.bert import Dataset, BertClassifier, train_model, evaluate_model, inference_model"
      ],
      "metadata": {
        "id": "2kwAz8iLPAPk"
      },
      "execution_count": 4,
      "outputs": []
    },
    {
      "cell_type": "code",
      "source": [
        "SEED = 42"
      ],
      "metadata": {
        "id": "cAKlferSEXnA"
      },
      "execution_count": 5,
      "outputs": []
    },
    {
      "cell_type": "code",
      "source": [
        "# data = get_file('sents_df.pkl')\n",
        "\n",
        "data = get_file('sents_df_100.pkl')"
      ],
      "metadata": {
        "id": "1z68BdIkEXpo"
      },
      "execution_count": 6,
      "outputs": []
    },
    {
      "cell_type": "code",
      "source": [
        "data.tail()"
      ],
      "metadata": {
        "colab": {
          "base_uri": "https://localhost:8080/",
          "height": 424
        },
        "id": "65rBtV_ht9aQ",
        "outputId": "5d3d8820-b772-4dc2-b982-6c773fc570c1"
      },
      "execution_count": 7,
      "outputs": [
        {
          "output_type": "execute_result",
          "data": {
            "text/plain": [
              "                                 file_name  snt_order  \\\n",
              "7092  ff6882cb4a3ec31dec18a94e1d1745b1.doc         47   \n",
              "7093  ff6882cb4a3ec31dec18a94e1d1745b1.doc         48   \n",
              "7094  ff6882cb4a3ec31dec18a94e1d1745b1.doc         49   \n",
              "7095  ff6882cb4a3ec31dec18a94e1d1745b1.doc         50   \n",
              "7096  ff6882cb4a3ec31dec18a94e1d1745b1.doc         51   \n",
              "\n",
              "                                               sentence  \\\n",
              "7092  8.3. Настоящий договор действует до момента ок...   \n",
              "7093  8.4. Настоящий договор не является заключенным...   \n",
              "7094  8.5. Настоящий договор подписан в двух экземпл...   \n",
              "7095  8.6. Во всем остальном, что не предусмотрено н...   \n",
              "7096  9. Реквизиты Продавца и Покупателя Продавец: О...   \n",
              "\n",
              "                                         sentence_clear data_split  \\\n",
              "7092  настоящий договор действует до момента окончан...       test   \n",
              "7093  настоящий договор не является заключенным с ус...       test   \n",
              "7094  настоящий договор подписан в двух экземплярах ...       test   \n",
              "7095  во всем остальном что не предусмотрено настоящ...       test   \n",
              "7096  реквизиты продавца и покупателя продавец огрн ...       test   \n",
              "\n",
              "                      target  sent_clear_len  \n",
              "7092  Договоры купли-продажи              12  \n",
              "7093  Договоры купли-продажи              13  \n",
              "7094  Договоры купли-продажи              16  \n",
              "7095  Договоры купли-продажи              17  \n",
              "7096  Договоры купли-продажи              59  "
            ],
            "text/html": [
              "\n",
              "  <div id=\"df-9824e03d-567b-4a40-9b77-f3e5ae993c9a\">\n",
              "    <div class=\"colab-df-container\">\n",
              "      <div>\n",
              "<style scoped>\n",
              "    .dataframe tbody tr th:only-of-type {\n",
              "        vertical-align: middle;\n",
              "    }\n",
              "\n",
              "    .dataframe tbody tr th {\n",
              "        vertical-align: top;\n",
              "    }\n",
              "\n",
              "    .dataframe thead th {\n",
              "        text-align: right;\n",
              "    }\n",
              "</style>\n",
              "<table border=\"1\" class=\"dataframe\">\n",
              "  <thead>\n",
              "    <tr style=\"text-align: right;\">\n",
              "      <th></th>\n",
              "      <th>file_name</th>\n",
              "      <th>snt_order</th>\n",
              "      <th>sentence</th>\n",
              "      <th>sentence_clear</th>\n",
              "      <th>data_split</th>\n",
              "      <th>target</th>\n",
              "      <th>sent_clear_len</th>\n",
              "    </tr>\n",
              "  </thead>\n",
              "  <tbody>\n",
              "    <tr>\n",
              "      <th>7092</th>\n",
              "      <td>ff6882cb4a3ec31dec18a94e1d1745b1.doc</td>\n",
              "      <td>47</td>\n",
              "      <td>8.3. Настоящий договор действует до момента ок...</td>\n",
              "      <td>настоящий договор действует до момента окончан...</td>\n",
              "      <td>test</td>\n",
              "      <td>Договоры купли-продажи</td>\n",
              "      <td>12</td>\n",
              "    </tr>\n",
              "    <tr>\n",
              "      <th>7093</th>\n",
              "      <td>ff6882cb4a3ec31dec18a94e1d1745b1.doc</td>\n",
              "      <td>48</td>\n",
              "      <td>8.4. Настоящий договор не является заключенным...</td>\n",
              "      <td>настоящий договор не является заключенным с ус...</td>\n",
              "      <td>test</td>\n",
              "      <td>Договоры купли-продажи</td>\n",
              "      <td>13</td>\n",
              "    </tr>\n",
              "    <tr>\n",
              "      <th>7094</th>\n",
              "      <td>ff6882cb4a3ec31dec18a94e1d1745b1.doc</td>\n",
              "      <td>49</td>\n",
              "      <td>8.5. Настоящий договор подписан в двух экземпл...</td>\n",
              "      <td>настоящий договор подписан в двух экземплярах ...</td>\n",
              "      <td>test</td>\n",
              "      <td>Договоры купли-продажи</td>\n",
              "      <td>16</td>\n",
              "    </tr>\n",
              "    <tr>\n",
              "      <th>7095</th>\n",
              "      <td>ff6882cb4a3ec31dec18a94e1d1745b1.doc</td>\n",
              "      <td>50</td>\n",
              "      <td>8.6. Во всем остальном, что не предусмотрено н...</td>\n",
              "      <td>во всем остальном что не предусмотрено настоящ...</td>\n",
              "      <td>test</td>\n",
              "      <td>Договоры купли-продажи</td>\n",
              "      <td>17</td>\n",
              "    </tr>\n",
              "    <tr>\n",
              "      <th>7096</th>\n",
              "      <td>ff6882cb4a3ec31dec18a94e1d1745b1.doc</td>\n",
              "      <td>51</td>\n",
              "      <td>9. Реквизиты Продавца и Покупателя Продавец: О...</td>\n",
              "      <td>реквизиты продавца и покупателя продавец огрн ...</td>\n",
              "      <td>test</td>\n",
              "      <td>Договоры купли-продажи</td>\n",
              "      <td>59</td>\n",
              "    </tr>\n",
              "  </tbody>\n",
              "</table>\n",
              "</div>\n",
              "      <button class=\"colab-df-convert\" onclick=\"convertToInteractive('df-9824e03d-567b-4a40-9b77-f3e5ae993c9a')\"\n",
              "              title=\"Convert this dataframe to an interactive table.\"\n",
              "              style=\"display:none;\">\n",
              "        \n",
              "  <svg xmlns=\"http://www.w3.org/2000/svg\" height=\"24px\"viewBox=\"0 0 24 24\"\n",
              "       width=\"24px\">\n",
              "    <path d=\"M0 0h24v24H0V0z\" fill=\"none\"/>\n",
              "    <path d=\"M18.56 5.44l.94 2.06.94-2.06 2.06-.94-2.06-.94-.94-2.06-.94 2.06-2.06.94zm-11 1L8.5 8.5l.94-2.06 2.06-.94-2.06-.94L8.5 2.5l-.94 2.06-2.06.94zm10 10l.94 2.06.94-2.06 2.06-.94-2.06-.94-.94-2.06-.94 2.06-2.06.94z\"/><path d=\"M17.41 7.96l-1.37-1.37c-.4-.4-.92-.59-1.43-.59-.52 0-1.04.2-1.43.59L10.3 9.45l-7.72 7.72c-.78.78-.78 2.05 0 2.83L4 21.41c.39.39.9.59 1.41.59.51 0 1.02-.2 1.41-.59l7.78-7.78 2.81-2.81c.8-.78.8-2.07 0-2.86zM5.41 20L4 18.59l7.72-7.72 1.47 1.35L5.41 20z\"/>\n",
              "  </svg>\n",
              "      </button>\n",
              "      \n",
              "  <style>\n",
              "    .colab-df-container {\n",
              "      display:flex;\n",
              "      flex-wrap:wrap;\n",
              "      gap: 12px;\n",
              "    }\n",
              "\n",
              "    .colab-df-convert {\n",
              "      background-color: #E8F0FE;\n",
              "      border: none;\n",
              "      border-radius: 50%;\n",
              "      cursor: pointer;\n",
              "      display: none;\n",
              "      fill: #1967D2;\n",
              "      height: 32px;\n",
              "      padding: 0 0 0 0;\n",
              "      width: 32px;\n",
              "    }\n",
              "\n",
              "    .colab-df-convert:hover {\n",
              "      background-color: #E2EBFA;\n",
              "      box-shadow: 0px 1px 2px rgba(60, 64, 67, 0.3), 0px 1px 3px 1px rgba(60, 64, 67, 0.15);\n",
              "      fill: #174EA6;\n",
              "    }\n",
              "\n",
              "    [theme=dark] .colab-df-convert {\n",
              "      background-color: #3B4455;\n",
              "      fill: #D2E3FC;\n",
              "    }\n",
              "\n",
              "    [theme=dark] .colab-df-convert:hover {\n",
              "      background-color: #434B5C;\n",
              "      box-shadow: 0px 1px 3px 1px rgba(0, 0, 0, 0.15);\n",
              "      filter: drop-shadow(0px 1px 2px rgba(0, 0, 0, 0.3));\n",
              "      fill: #FFFFFF;\n",
              "    }\n",
              "  </style>\n",
              "\n",
              "      <script>\n",
              "        const buttonEl =\n",
              "          document.querySelector('#df-9824e03d-567b-4a40-9b77-f3e5ae993c9a button.colab-df-convert');\n",
              "        buttonEl.style.display =\n",
              "          google.colab.kernel.accessAllowed ? 'block' : 'none';\n",
              "\n",
              "        async function convertToInteractive(key) {\n",
              "          const element = document.querySelector('#df-9824e03d-567b-4a40-9b77-f3e5ae993c9a');\n",
              "          const dataTable =\n",
              "            await google.colab.kernel.invokeFunction('convertToInteractive',\n",
              "                                                     [key], {});\n",
              "          if (!dataTable) return;\n",
              "\n",
              "          const docLinkHtml = 'Like what you see? Visit the ' +\n",
              "            '<a target=\"_blank\" href=https://colab.research.google.com/notebooks/data_table.ipynb>data table notebook</a>'\n",
              "            + ' to learn more about interactive tables.';\n",
              "          element.innerHTML = '';\n",
              "          dataTable['output_type'] = 'display_data';\n",
              "          await google.colab.output.renderOutput(dataTable, element);\n",
              "          const docLink = document.createElement('div');\n",
              "          docLink.innerHTML = docLinkHtml;\n",
              "          element.appendChild(docLink);\n",
              "        }\n",
              "      </script>\n",
              "    </div>\n",
              "  </div>\n",
              "  "
            ]
          },
          "metadata": {},
          "execution_count": 7
        }
      ]
    },
    {
      "cell_type": "code",
      "source": [
        "data.shape[0]"
      ],
      "metadata": {
        "colab": {
          "base_uri": "https://localhost:8080/"
        },
        "id": "KnTpjDB5uGyq",
        "outputId": "bb224903-c4ce-4ae1-f261-6afa3c486399"
      },
      "execution_count": 8,
      "outputs": [
        {
          "output_type": "execute_result",
          "data": {
            "text/plain": [
              "7090"
            ]
          },
          "metadata": {},
          "execution_count": 8
        }
      ]
    },
    {
      "cell_type": "code",
      "source": [
        "!pip install transformers"
      ],
      "metadata": {
        "colab": {
          "base_uri": "https://localhost:8080/"
        },
        "id": "qk1Tu6iEFUyH",
        "outputId": "a72771d2-0bbc-4159-9848-3c5b029be146"
      },
      "execution_count": 9,
      "outputs": [
        {
          "output_type": "stream",
          "name": "stdout",
          "text": [
            "Looking in indexes: https://pypi.org/simple, https://us-python.pkg.dev/colab-wheels/public/simple/\n",
            "Requirement already satisfied: transformers in /usr/local/lib/python3.8/dist-packages (4.25.1)\n",
            "Requirement already satisfied: pyyaml>=5.1 in /usr/local/lib/python3.8/dist-packages (from transformers) (6.0)\n",
            "Requirement already satisfied: packaging>=20.0 in /usr/local/lib/python3.8/dist-packages (from transformers) (21.3)\n",
            "Requirement already satisfied: regex!=2019.12.17 in /usr/local/lib/python3.8/dist-packages (from transformers) (2022.6.2)\n",
            "Requirement already satisfied: huggingface-hub<1.0,>=0.10.0 in /usr/local/lib/python3.8/dist-packages (from transformers) (0.11.1)\n",
            "Requirement already satisfied: filelock in /usr/local/lib/python3.8/dist-packages (from transformers) (3.8.2)\n",
            "Requirement already satisfied: requests in /usr/local/lib/python3.8/dist-packages (from transformers) (2.23.0)\n",
            "Requirement already satisfied: tokenizers!=0.11.3,<0.14,>=0.11.1 in /usr/local/lib/python3.8/dist-packages (from transformers) (0.13.2)\n",
            "Requirement already satisfied: tqdm>=4.27 in /usr/local/lib/python3.8/dist-packages (from transformers) (4.64.1)\n",
            "Requirement already satisfied: numpy>=1.17 in /usr/local/lib/python3.8/dist-packages (from transformers) (1.21.6)\n",
            "Requirement already satisfied: typing-extensions>=3.7.4.3 in /usr/local/lib/python3.8/dist-packages (from huggingface-hub<1.0,>=0.10.0->transformers) (4.4.0)\n",
            "Requirement already satisfied: pyparsing!=3.0.5,>=2.0.2 in /usr/local/lib/python3.8/dist-packages (from packaging>=20.0->transformers) (3.0.9)\n",
            "Requirement already satisfied: urllib3!=1.25.0,!=1.25.1,<1.26,>=1.21.1 in /usr/local/lib/python3.8/dist-packages (from requests->transformers) (1.24.3)\n",
            "Requirement already satisfied: idna<3,>=2.5 in /usr/local/lib/python3.8/dist-packages (from requests->transformers) (2.10)\n",
            "Requirement already satisfied: certifi>=2017.4.17 in /usr/local/lib/python3.8/dist-packages (from requests->transformers) (2022.12.7)\n",
            "Requirement already satisfied: chardet<4,>=3.0.2 in /usr/local/lib/python3.8/dist-packages (from requests->transformers) (3.0.4)\n"
          ]
        }
      ]
    },
    {
      "cell_type": "code",
      "source": [
        "from transformers import AutoTokenizer, AutoModel\n",
        "\n",
        "tokenizer = AutoTokenizer.from_pretrained(\"cointegrated/rubert-tiny2\")\n",
        "bert_model = AutoModel.from_pretrained(\"cointegrated/rubert-tiny2\")\n",
        "\n",
        "# tokenizer = AutoTokenizer.from_pretrained(\"DeepPavlov/rubert-base-cased\")\n",
        "# bert_model = AutoModel.from_pretrained(\"DeepPavlov/rubert-base-cased\")"
      ],
      "metadata": {
        "colab": {
          "base_uri": "https://localhost:8080/"
        },
        "id": "MwPR2ucOFp9F",
        "outputId": "0332fda1-ed3e-4aa9-a415-dbf5a403fc32"
      },
      "execution_count": 10,
      "outputs": [
        {
          "output_type": "stream",
          "name": "stderr",
          "text": [
            "Some weights of the model checkpoint at cointegrated/rubert-tiny2 were not used when initializing BertModel: ['cls.predictions.transform.LayerNorm.bias', 'cls.predictions.transform.LayerNorm.weight', 'cls.seq_relationship.weight', 'cls.predictions.decoder.bias', 'cls.predictions.transform.dense.weight', 'cls.predictions.bias', 'cls.seq_relationship.bias', 'cls.predictions.transform.dense.bias', 'cls.predictions.decoder.weight']\n",
            "- This IS expected if you are initializing BertModel from the checkpoint of a model trained on another task or with another architecture (e.g. initializing a BertForSequenceClassification model from a BertForPreTraining model).\n",
            "- This IS NOT expected if you are initializing BertModel from the checkpoint of a model that you expect to be exactly identical (initializing a BertForSequenceClassification model from a BertForSequenceClassification model).\n"
          ]
        }
      ]
    },
    {
      "cell_type": "code",
      "source": [
        "idx2item = dict(enumerate(data.target.unique()))\n",
        "item2idx = {v: k for k, v in idx2item.items()}\n",
        "\n",
        "n_cats = data.target.nunique()\n",
        "\n",
        "print(n_cats, idx2item, item2idx)"
      ],
      "metadata": {
        "id": "cL3k0xf2Fp_r",
        "colab": {
          "base_uri": "https://localhost:8080/"
        },
        "outputId": "b9147dfc-2aa8-49bc-c0bb-fb2124db50ac"
      },
      "execution_count": 11,
      "outputs": [
        {
          "output_type": "stream",
          "name": "stdout",
          "text": [
            "5 {0: 'Договоры оказания услуг', 1: 'Договоры подряда', 2: 'Договоры купли-продажи', 3: 'Договоры аренды', 4: 'Договоры поставки'} {'Договоры оказания услуг': 0, 'Договоры подряда': 1, 'Договоры купли-продажи': 2, 'Договоры аренды': 3, 'Договоры поставки': 4}\n"
          ]
        }
      ]
    },
    {
      "cell_type": "code",
      "source": [
        "data_train = data[data.data_split == 'train'][['sentence_clear', 'target', 'file_name', 'snt_order', 'sentence']]\n",
        "data_val = data[data.data_split == 'val'][['sentence_clear', 'target', 'file_name', 'snt_order', 'sentence']]\n",
        "data_test = data[data.data_split == 'test'][['sentence_clear', 'target', 'file_name', 'snt_order', 'sentence']]"
      ],
      "metadata": {
        "id": "cSOtERExFDCj"
      },
      "execution_count": 12,
      "outputs": []
    },
    {
      "cell_type": "code",
      "source": [
        "data_train.shape[0], data_val.shape[0], data_test.shape[0]"
      ],
      "metadata": {
        "colab": {
          "base_uri": "https://localhost:8080/"
        },
        "id": "Iw3ubPVhFuCT",
        "outputId": "138dfcdd-de55-4c56-e6a3-21128cf98643"
      },
      "execution_count": 13,
      "outputs": [
        {
          "output_type": "execute_result",
          "data": {
            "text/plain": [
              "(5052, 1031, 1007)"
            ]
          },
          "metadata": {},
          "execution_count": 13
        }
      ]
    },
    {
      "cell_type": "code",
      "source": [
        "MAX_LEN = 100"
      ],
      "metadata": {
        "id": "saZStm9PIJE9"
      },
      "execution_count": 14,
      "outputs": []
    },
    {
      "cell_type": "code",
      "source": [
        "train_data = Dataset(data_train, tokenizer, MAX_LEN, item2idx)\n",
        "val_data = Dataset(data_val, tokenizer, MAX_LEN, item2idx)\n",
        "test_data = Dataset(data_test, tokenizer, MAX_LEN, item2idx)"
      ],
      "metadata": {
        "colab": {
          "base_uri": "https://localhost:8080/"
        },
        "id": "H8zcEOJbIGhQ",
        "outputId": "f49b8c07-6689-416f-beec-2f9e849db6b3"
      },
      "execution_count": 15,
      "outputs": [
        {
          "output_type": "stream",
          "name": "stderr",
          "text": [
            "100%|██████████| 5052/5052 [00:01<00:00, 3236.91it/s]\n",
            "100%|██████████| 1031/1031 [00:00<00:00, 4545.71it/s]\n",
            "100%|██████████| 1007/1007 [00:00<00:00, 4399.90it/s]\n"
          ]
        }
      ]
    },
    {
      "cell_type": "code",
      "source": [
        "OUTP_DIM = 312\n",
        "# OUTP_DIM = 768\n",
        "BATCH_SIZE = 4\n",
        "LR = 7e-7\n",
        "EPOCHS = 30"
      ],
      "metadata": {
        "id": "69dBJKYVeY6x"
      },
      "execution_count": 16,
      "outputs": []
    },
    {
      "cell_type": "code",
      "source": [
        "torch.cuda.empty_cache()\n",
        "model = BertClassifier(bert_model, n_cats, OUTP_DIM)\n",
        "\n",
        "train_model(model, train_data, val_data, BATCH_SIZE, LR, EPOCHS)"
      ],
      "metadata": {
        "colab": {
          "base_uri": "https://localhost:8080/",
          "height": 421
        },
        "id": "oTRV6hntR_7V",
        "outputId": "24c7d03c-6c4c-4b39-b375-ce0a7e432de0"
      },
      "execution_count": 17,
      "outputs": [
        {
          "output_type": "display_data",
          "data": {
            "text/plain": [
              "<Figure size 1008x432 with 2 Axes>"
            ],
            "image/png": "[encoded data removed]"
          },
          "metadata": {
            "needs_background": "light"
          }
        },
        {
          "output_type": "stream",
          "name": "stdout",
          "text": [
            "Val Loss: 0.148\t\t Val Accuracy: 0.735\n"
          ]
        }
      ]
    },
    {
      "cell_type": "code",
      "source": [
        "# 80: Val Loss: 0.154\t\t Val Accuracy: 0.714"
      ],
      "metadata": {
        "id": "9JGdh8ze6_YR"
      },
      "execution_count": null,
      "outputs": []
    },
    {
      "cell_type": "code",
      "source": [
        "from google.colab import drive\n",
        "drive.mount('/content/gdrive/')"
      ],
      "metadata": {
        "colab": {
          "base_uri": "https://localhost:8080/"
        },
        "id": "EUwKz9MuTJrP",
        "outputId": "9259d174-1dfa-4934-f93c-523cee45fffc"
      },
      "execution_count": 31,
      "outputs": [
        {
          "output_type": "stream",
          "name": "stdout",
          "text": [
            "Mounted at /content/gdrive/\n"
          ]
        }
      ]
    },
    {
      "cell_type": "code",
      "source": [
        "SAVE_PATH = Path('/content/gdrive/MyDrive/zavodit')"
      ],
      "metadata": {
        "id": "l4bwTquSTXwm"
      },
      "execution_count": 32,
      "outputs": []
    },
    {
      "cell_type": "code",
      "source": [
        "torch.save(model.state_dict(), SAVE_PATH / 'rubert_tiny_state_dict.pkl')\n",
        "save_file(tokenizer, SAVE_PATH / 'tokenizer_rubert.pkl')\n",
        "save_file(idx2item, SAVE_PATH / 'idx2item.pkl')"
      ],
      "metadata": {
        "colab": {
          "base_uri": "https://localhost:8080/",
          "height": 36
        },
        "id": "IBncRipBHFlz",
        "outputId": "a1bf1707-c8f7-4ce4-bd9f-386c59ed0b05"
      },
      "execution_count": 33,
      "outputs": [
        {
          "output_type": "execute_result",
          "data": {
            "text/plain": [
              "'Done'"
            ],
            "application/vnd.google.colaboratory.intrinsic+json": {
              "type": "string"
            }
          },
          "metadata": {},
          "execution_count": 33
        }
      ]
    },
    {
      "cell_type": "code",
      "source": [],
      "metadata": {
        "id": "Lj1bJqbyRasv"
      },
      "execution_count": null,
      "outputs": []
    },
    {
      "cell_type": "code",
      "source": [
        "model = get_file(SAVE_PATH / 'rubert_tiny.pkl')\n",
        "tokenizer = get_file(SAVE_PATH / 'tokenizer_rubert.pkl')\n",
        "idx2item = get_file(SAVE_PATH / 'idx2item.pkl')"
      ],
      "metadata": {
        "id": "UuTaC_wiZT5g"
      },
      "execution_count": null,
      "outputs": []
    },
    {
      "cell_type": "code",
      "source": [
        "# Оценка на валидационной выборке\n",
        "\n",
        "pred_labels, pred_probs = evaluate_model(model, val_data, BATCH_SIZE, return_proba=True)\n",
        "\n",
        "data_val_with_preds = data_val.copy()\n",
        "\n",
        "data_val_with_preds['target_pred'] = pred_labels\n",
        "data_val_with_preds['pred_proba'] = pred_probs\n",
        "data_val_with_preds['target_pred'] = data_val_with_preds['target_pred'].map(idx2item)\n",
        "\n",
        "print('\\nVAL DATA (sentences):\\n', classification_report(data_val_with_preds.target, data_val_with_preds.target_pred))"
      ],
      "metadata": {
        "colab": {
          "base_uri": "https://localhost:8080/"
        },
        "id": "gKyZ-wwjHFx2",
        "outputId": "e4e7fe51-7332-406b-d848-2eae75045ba0"
      },
      "execution_count": 60,
      "outputs": [
        {
          "output_type": "stream",
          "name": "stderr",
          "text": [
            "100%|██████████| 258/258 [00:00<00:00, 307.73it/s]"
          ]
        },
        {
          "output_type": "stream",
          "name": "stdout",
          "text": [
            "Accuracy:  0.735\n",
            "\n",
            "VAL DATA (sentences):\n",
            "                          precision    recall  f1-score   support\n",
            "\n",
            "        Договоры аренды       0.81      0.75      0.78       204\n",
            " Договоры купли-продажи       0.87      0.58      0.70       176\n",
            "Договоры оказания услуг       0.51      0.79      0.62       148\n",
            "       Договоры подряда       0.90      0.74      0.81       298\n",
            "      Договоры поставки       0.66      0.80      0.72       205\n",
            "\n",
            "               accuracy                           0.74      1031\n",
            "              macro avg       0.75      0.73      0.73      1031\n",
            "           weighted avg       0.77      0.74      0.74      1031\n",
            "\n"
          ]
        },
        {
          "output_type": "stream",
          "name": "stderr",
          "text": [
            "\n"
          ]
        }
      ]
    },
    {
      "cell_type": "code",
      "source": [
        "data_val_with_preds['true_pos'] = (data_val_with_preds.target == data_val_with_preds.target_pred).astype(int)\n",
        "true_share_by_snt_order = data_val_with_preds.groupby('snt_order').true_pos.mean()"
      ],
      "metadata": {
        "id": "pDb_IcYG_qot"
      },
      "execution_count": 61,
      "outputs": []
    },
    {
      "cell_type": "code",
      "source": [
        "plt.scatter(true_share_by_snt_order.index, true_share_by_snt_order.values, s=2)\n",
        "plt.show()"
      ],
      "metadata": {
        "colab": {
          "base_uri": "https://localhost:8080/",
          "height": 265
        },
        "id": "SN8gT_E-_m20",
        "outputId": "7912c37d-853e-4b87-e1fa-d4e86cd9d672"
      },
      "execution_count": 62,
      "outputs": [
        {
          "output_type": "display_data",
          "data": {
            "text/plain": [
              "<Figure size 432x288 with 1 Axes>"
            ],
            "image/png": "[encoded data removed]"
          },
          "metadata": {
            "needs_background": "light"
          }
        }
      ]
    },
    {
      "cell_type": "code",
      "source": [
        "print('\\nTEST DATA (sentences):\\n', classification_report(data_val_with_preds[data_val_with_preds.snt_order < 150].target,\n",
        "                                                          data_val_with_preds[data_val_with_preds.snt_order < 150].target_pred))"
      ],
      "metadata": {
        "colab": {
          "base_uri": "https://localhost:8080/"
        },
        "id": "wzvSJcqOB1km",
        "outputId": "341fed3a-5a65-411f-c6f0-a45977b1e2c2"
      },
      "execution_count": 63,
      "outputs": [
        {
          "output_type": "stream",
          "name": "stdout",
          "text": [
            "\n",
            "TEST DATA (sentences):\n",
            "                          precision    recall  f1-score   support\n",
            "\n",
            "        Договоры аренды       0.82      0.75      0.79       204\n",
            " Договоры купли-продажи       0.87      0.58      0.70       176\n",
            "Договоры оказания услуг       0.53      0.79      0.63       148\n",
            "       Договоры подряда       0.90      0.79      0.84       271\n",
            "      Договоры поставки       0.68      0.80      0.73       205\n",
            "\n",
            "               accuracy                           0.75      1004\n",
            "              macro avg       0.76      0.74      0.74      1004\n",
            "           weighted avg       0.78      0.75      0.75      1004\n",
            "\n"
          ]
        }
      ]
    },
    {
      "cell_type": "code",
      "source": [
        "data_val_with_preds['cl_sent_len'] = data_val_with_preds['sentence_clear'].apply(len)"
      ],
      "metadata": {
        "id": "VC3Sj6CLCKj2"
      },
      "execution_count": 65,
      "outputs": []
    },
    {
      "cell_type": "code",
      "source": [
        "data_val_with_preds[data_val_with_preds.cl_sent_len < 100]"
      ],
      "metadata": {
        "colab": {
          "base_uri": "https://localhost:8080/",
          "height": 973
        },
        "id": "980q1tLxC3US",
        "outputId": "02306381-f906-46e9-9411-ac4cf0ac7666"
      },
      "execution_count": 69,
      "outputs": [
        {
          "output_type": "execute_result",
          "data": {
            "text/plain": [
              "                                         sentence_clear  \\\n",
              "82      работа выполняется за риск подрядчика заказчика   \n",
              "85    подрядчик привлечь к исполнению своих обязател...   \n",
              "87    подрядчик гарантирует качество выполненной раб...   \n",
              "90    при просрочке выполнения работ по устранению н...   \n",
              "92    дата предусмотренные пункт договора работы вып...   \n",
              "...                                                 ...   \n",
              "6212  the contractor hereby undertakes to perform th...   \n",
              "6232  the cost of services includes participation in...   \n",
              "6233  датой оплаты считается дата списания денежных ...   \n",
              "6264  this agreement is made in two equally valid co...   \n",
              "6265  in event of any discrepancies between the engl...   \n",
              "\n",
              "                       target                              file_name  \\\n",
              "82           Договоры подряда  03a70fe60be9ecc2a63798a361fc9689.docx   \n",
              "85           Договоры подряда  03a70fe60be9ecc2a63798a361fc9689.docx   \n",
              "87           Договоры подряда  03a70fe60be9ecc2a63798a361fc9689.docx   \n",
              "90           Договоры подряда  03a70fe60be9ecc2a63798a361fc9689.docx   \n",
              "92           Договоры подряда  03a70fe60be9ecc2a63798a361fc9689.docx   \n",
              "...                       ...                                    ...   \n",
              "6212  Договоры оказания услуг   d54c0b06162cf7cf57e8b1e7356aa204.doc   \n",
              "6232  Договоры оказания услуг   d54c0b06162cf7cf57e8b1e7356aa204.doc   \n",
              "6233  Договоры оказания услуг   d54c0b06162cf7cf57e8b1e7356aa204.doc   \n",
              "6264  Договоры оказания услуг   d54c0b06162cf7cf57e8b1e7356aa204.doc   \n",
              "6265  Договоры оказания услуг   d54c0b06162cf7cf57e8b1e7356aa204.doc   \n",
              "\n",
              "      snt_order                                           sentence  \\\n",
              "82            3  1.2. Работа выполняется за риск ______________...   \n",
              "85            6  Подрядчик _________________________ привлечь к...   \n",
              "87            8  Подрядчик гарантирует качество _______________...   \n",
              "90           11  При просрочке выполнения работ по устранению н...   \n",
              "92           13  (дата) 2.6. Предусмотренные пункт 1.1 договора...   \n",
              "...         ...                                                ...   \n",
              "6212         14  2.1. The Contractor hereby undertakes to perfo...   \n",
              "6232         34  3.3. The cost of Services includes participati...   \n",
              "6233         35  Датой оплаты считается дата списания денежных ...   \n",
              "6264         66  5.5. This Agreement is made in two equally val...   \n",
              "6265         67  In event of any discrepancies between the Engl...   \n",
              "\n",
              "                  target_pred  pred_proba  true_pos  cl_sent_len  \n",
              "82           Договоры подряда    0.919168         1           47  \n",
              "85           Договоры подряда    0.905730         1           82  \n",
              "87           Договоры подряда    0.934042         1           59  \n",
              "90           Договоры подряда    0.936662         1           95  \n",
              "92           Договоры подряда    0.900750         1           74  \n",
              "...                       ...         ...       ...          ...  \n",
              "6212          Договоры аренды    0.407223         0           90  \n",
              "6232  Договоры оказания услуг    0.878156         1           89  \n",
              "6233  Договоры оказания услуг    0.623850         1           98  \n",
              "6264  Договоры оказания услуг    0.571934         1           92  \n",
              "6265  Договоры оказания услуг    0.822787         1           98  \n",
              "\n",
              "[87 rows x 9 columns]"
            ],
            "text/html": [
              "\n",
              "  <div id=\"df-91034c90-5aaf-4a94-bf8f-9f91aa689c0d\">\n",
              "    <div class=\"colab-df-container\">\n",
              "      <div>\n",
              "<style scoped>\n",
              "    .dataframe tbody tr th:only-of-type {\n",
              "        vertical-align: middle;\n",
              "    }\n",
              "\n",
              "    .dataframe tbody tr th {\n",
              "        vertical-align: top;\n",
              "    }\n",
              "\n",
              "    .dataframe thead th {\n",
              "        text-align: right;\n",
              "    }\n",
              "</style>\n",
              "<table border=\"1\" class=\"dataframe\">\n",
              "  <thead>\n",
              "    <tr style=\"text-align: right;\">\n",
              "      <th></th>\n",
              "      <th>sentence_clear</th>\n",
              "      <th>target</th>\n",
              "      <th>file_name</th>\n",
              "      <th>snt_order</th>\n",
              "      <th>sentence</th>\n",
              "      <th>target_pred</th>\n",
              "      <th>pred_proba</th>\n",
              "      <th>true_pos</th>\n",
              "      <th>cl_sent_len</th>\n",
              "    </tr>\n",
              "  </thead>\n",
              "  <tbody>\n",
              "    <tr>\n",
              "      <th>82</th>\n",
              "      <td>работа выполняется за риск подрядчика заказчика</td>\n",
              "      <td>Договоры подряда</td>\n",
              "      <td>03a70fe60be9ecc2a63798a361fc9689.docx</td>\n",
              "      <td>3</td>\n",
              "      <td>1.2. Работа выполняется за риск ______________...</td>\n",
              "      <td>Договоры подряда</td>\n",
              "      <td>0.919168</td>\n",
              "      <td>1</td>\n",
              "      <td>47</td>\n",
              "    </tr>\n",
              "    <tr>\n",
              "      <th>85</th>\n",
              "      <td>подрядчик привлечь к исполнению своих обязател...</td>\n",
              "      <td>Договоры подряда</td>\n",
              "      <td>03a70fe60be9ecc2a63798a361fc9689.docx</td>\n",
              "      <td>6</td>\n",
              "      <td>Подрядчик _________________________ привлечь к...</td>\n",
              "      <td>Договоры подряда</td>\n",
              "      <td>0.905730</td>\n",
              "      <td>1</td>\n",
              "      <td>82</td>\n",
              "    </tr>\n",
              "    <tr>\n",
              "      <th>87</th>\n",
              "      <td>подрядчик гарантирует качество выполненной раб...</td>\n",
              "      <td>Договоры подряда</td>\n",
              "      <td>03a70fe60be9ecc2a63798a361fc9689.docx</td>\n",
              "      <td>8</td>\n",
              "      <td>Подрядчик гарантирует качество _______________...</td>\n",
              "      <td>Договоры подряда</td>\n",
              "      <td>0.934042</td>\n",
              "      <td>1</td>\n",
              "      <td>59</td>\n",
              "    </tr>\n",
              "    <tr>\n",
              "      <th>90</th>\n",
              "      <td>при просрочке выполнения работ по устранению н...</td>\n",
              "      <td>Договоры подряда</td>\n",
              "      <td>03a70fe60be9ecc2a63798a361fc9689.docx</td>\n",
              "      <td>11</td>\n",
              "      <td>При просрочке выполнения работ по устранению н...</td>\n",
              "      <td>Договоры подряда</td>\n",
              "      <td>0.936662</td>\n",
              "      <td>1</td>\n",
              "      <td>95</td>\n",
              "    </tr>\n",
              "    <tr>\n",
              "      <th>92</th>\n",
              "      <td>дата предусмотренные пункт договора работы вып...</td>\n",
              "      <td>Договоры подряда</td>\n",
              "      <td>03a70fe60be9ecc2a63798a361fc9689.docx</td>\n",
              "      <td>13</td>\n",
              "      <td>(дата) 2.6. Предусмотренные пункт 1.1 договора...</td>\n",
              "      <td>Договоры подряда</td>\n",
              "      <td>0.900750</td>\n",
              "      <td>1</td>\n",
              "      <td>74</td>\n",
              "    </tr>\n",
              "    <tr>\n",
              "      <th>...</th>\n",
              "      <td>...</td>\n",
              "      <td>...</td>\n",
              "      <td>...</td>\n",
              "      <td>...</td>\n",
              "      <td>...</td>\n",
              "      <td>...</td>\n",
              "      <td>...</td>\n",
              "      <td>...</td>\n",
              "      <td>...</td>\n",
              "    </tr>\n",
              "    <tr>\n",
              "      <th>6212</th>\n",
              "      <td>the contractor hereby undertakes to perform th...</td>\n",
              "      <td>Договоры оказания услуг</td>\n",
              "      <td>d54c0b06162cf7cf57e8b1e7356aa204.doc</td>\n",
              "      <td>14</td>\n",
              "      <td>2.1. The Contractor hereby undertakes to perfo...</td>\n",
              "      <td>Договоры аренды</td>\n",
              "      <td>0.407223</td>\n",
              "      <td>0</td>\n",
              "      <td>90</td>\n",
              "    </tr>\n",
              "    <tr>\n",
              "      <th>6232</th>\n",
              "      <td>the cost of services includes participation in...</td>\n",
              "      <td>Договоры оказания услуг</td>\n",
              "      <td>d54c0b06162cf7cf57e8b1e7356aa204.doc</td>\n",
              "      <td>34</td>\n",
              "      <td>3.3. The cost of Services includes participati...</td>\n",
              "      <td>Договоры оказания услуг</td>\n",
              "      <td>0.878156</td>\n",
              "      <td>1</td>\n",
              "      <td>89</td>\n",
              "    </tr>\n",
              "    <tr>\n",
              "      <th>6233</th>\n",
              "      <td>датой оплаты считается дата списания денежных ...</td>\n",
              "      <td>Договоры оказания услуг</td>\n",
              "      <td>d54c0b06162cf7cf57e8b1e7356aa204.doc</td>\n",
              "      <td>35</td>\n",
              "      <td>Датой оплаты считается дата списания денежных ...</td>\n",
              "      <td>Договоры оказания услуг</td>\n",
              "      <td>0.623850</td>\n",
              "      <td>1</td>\n",
              "      <td>98</td>\n",
              "    </tr>\n",
              "    <tr>\n",
              "      <th>6264</th>\n",
              "      <td>this agreement is made in two equally valid co...</td>\n",
              "      <td>Договоры оказания услуг</td>\n",
              "      <td>d54c0b06162cf7cf57e8b1e7356aa204.doc</td>\n",
              "      <td>66</td>\n",
              "      <td>5.5. This Agreement is made in two equally val...</td>\n",
              "      <td>Договоры оказания услуг</td>\n",
              "      <td>0.571934</td>\n",
              "      <td>1</td>\n",
              "      <td>92</td>\n",
              "    </tr>\n",
              "    <tr>\n",
              "      <th>6265</th>\n",
              "      <td>in event of any discrepancies between the engl...</td>\n",
              "      <td>Договоры оказания услуг</td>\n",
              "      <td>d54c0b06162cf7cf57e8b1e7356aa204.doc</td>\n",
              "      <td>67</td>\n",
              "      <td>In event of any discrepancies between the Engl...</td>\n",
              "      <td>Договоры оказания услуг</td>\n",
              "      <td>0.822787</td>\n",
              "      <td>1</td>\n",
              "      <td>98</td>\n",
              "    </tr>\n",
              "  </tbody>\n",
              "</table>\n",
              "<p>87 rows × 9 columns</p>\n",
              "</div>\n",
              "      <button class=\"colab-df-convert\" onclick=\"convertToInteractive('df-91034c90-5aaf-4a94-bf8f-9f91aa689c0d')\"\n",
              "              title=\"Convert this dataframe to an interactive table.\"\n",
              "              style=\"display:none;\">\n",
              "        \n",
              "  <svg xmlns=\"http://www.w3.org/2000/svg\" height=\"24px\"viewBox=\"0 0 24 24\"\n",
              "       width=\"24px\">\n",
              "    <path d=\"M0 0h24v24H0V0z\" fill=\"none\"/>\n",
              "    <path d=\"M18.56 5.44l.94 2.06.94-2.06 2.06-.94-2.06-.94-.94-2.06-.94 2.06-2.06.94zm-11 1L8.5 8.5l.94-2.06 2.06-.94-2.06-.94L8.5 2.5l-.94 2.06-2.06.94zm10 10l.94 2.06.94-2.06 2.06-.94-2.06-.94-.94-2.06-.94 2.06-2.06.94z\"/><path d=\"M17.41 7.96l-1.37-1.37c-.4-.4-.92-.59-1.43-.59-.52 0-1.04.2-1.43.59L10.3 9.45l-7.72 7.72c-.78.78-.78 2.05 0 2.83L4 21.41c.39.39.9.59 1.41.59.51 0 1.02-.2 1.41-.59l7.78-7.78 2.81-2.81c.8-.78.8-2.07 0-2.86zM5.41 20L4 18.59l7.72-7.72 1.47 1.35L5.41 20z\"/>\n",
              "  </svg>\n",
              "      </button>\n",
              "      \n",
              "  <style>\n",
              "    .colab-df-container {\n",
              "      display:flex;\n",
              "      flex-wrap:wrap;\n",
              "      gap: 12px;\n",
              "    }\n",
              "\n",
              "    .colab-df-convert {\n",
              "      background-color: #E8F0FE;\n",
              "      border: none;\n",
              "      border-radius: 50%;\n",
              "      cursor: pointer;\n",
              "      display: none;\n",
              "      fill: #1967D2;\n",
              "      height: 32px;\n",
              "      padding: 0 0 0 0;\n",
              "      width: 32px;\n",
              "    }\n",
              "\n",
              "    .colab-df-convert:hover {\n",
              "      background-color: #E2EBFA;\n",
              "      box-shadow: 0px 1px 2px rgba(60, 64, 67, 0.3), 0px 1px 3px 1px rgba(60, 64, 67, 0.15);\n",
              "      fill: #174EA6;\n",
              "    }\n",
              "\n",
              "    [theme=dark] .colab-df-convert {\n",
              "      background-color: #3B4455;\n",
              "      fill: #D2E3FC;\n",
              "    }\n",
              "\n",
              "    [theme=dark] .colab-df-convert:hover {\n",
              "      background-color: #434B5C;\n",
              "      box-shadow: 0px 1px 3px 1px rgba(0, 0, 0, 0.15);\n",
              "      filter: drop-shadow(0px 1px 2px rgba(0, 0, 0, 0.3));\n",
              "      fill: #FFFFFF;\n",
              "    }\n",
              "  </style>\n",
              "\n",
              "      <script>\n",
              "        const buttonEl =\n",
              "          document.querySelector('#df-91034c90-5aaf-4a94-bf8f-9f91aa689c0d button.colab-df-convert');\n",
              "        buttonEl.style.display =\n",
              "          google.colab.kernel.accessAllowed ? 'block' : 'none';\n",
              "\n",
              "        async function convertToInteractive(key) {\n",
              "          const element = document.querySelector('#df-91034c90-5aaf-4a94-bf8f-9f91aa689c0d');\n",
              "          const dataTable =\n",
              "            await google.colab.kernel.invokeFunction('convertToInteractive',\n",
              "                                                     [key], {});\n",
              "          if (!dataTable) return;\n",
              "\n",
              "          const docLinkHtml = 'Like what you see? Visit the ' +\n",
              "            '<a target=\"_blank\" href=https://colab.research.google.com/notebooks/data_table.ipynb>data table notebook</a>'\n",
              "            + ' to learn more about interactive tables.';\n",
              "          element.innerHTML = '';\n",
              "          dataTable['output_type'] = 'display_data';\n",
              "          await google.colab.output.renderOutput(dataTable, element);\n",
              "          const docLink = document.createElement('div');\n",
              "          docLink.innerHTML = docLinkHtml;\n",
              "          element.appendChild(docLink);\n",
              "        }\n",
              "      </script>\n",
              "    </div>\n",
              "  </div>\n",
              "  "
            ]
          },
          "metadata": {},
          "execution_count": 69
        }
      ]
    },
    {
      "cell_type": "code",
      "source": [
        "true_share_by_snt_len = data_val_with_preds.groupby('cl_sent_len').true_pos.mean()"
      ],
      "metadata": {
        "id": "rwZBT5AfCaf-"
      },
      "execution_count": 66,
      "outputs": []
    },
    {
      "cell_type": "code",
      "source": [
        "plt.scatter(true_share_by_snt_len.index, true_share_by_snt_len.values, s=2)\n",
        "plt.show()"
      ],
      "metadata": {
        "colab": {
          "base_uri": "https://localhost:8080/",
          "height": 265
        },
        "id": "jsCJIp2rCg1Z",
        "outputId": "40d30314-5c94-4c42-85bf-240b39719606"
      },
      "execution_count": 68,
      "outputs": [
        {
          "output_type": "display_data",
          "data": {
            "text/plain": [
              "<Figure size 432x288 with 1 Axes>"
            ],
            "image/png": "[encoded data removed]"
          },
          "metadata": {
            "needs_background": "light"
          }
        }
      ]
    },
    {
      "cell_type": "code",
      "source": [
        "pred_df = data_val_with_preds.groupby('file_name').target_pred.value_counts(normalize=True).to_frame()\n",
        "pred_df.columns = ['proba']\n",
        "pred_df.reset_index(inplace=True)\n",
        "\n",
        "true_df = data_val_with_preds[['file_name', 'target']].drop_duplicates()\n",
        "\n",
        "pred_df = pred_df.merge(true_df)\n",
        "pred_df['ord'] = pred_df.groupby('file_name').cumcount()"
      ],
      "metadata": {
        "id": "lNXCgxS8ZkB_"
      },
      "execution_count": 50,
      "outputs": []
    },
    {
      "cell_type": "markdown",
      "source": [
        "Посмотрим на предложения, в принадлежности которых к самому частому классу модель наиболее сильно уверена "
      ],
      "metadata": {
        "id": "wItuE8TgkHL0"
      }
    },
    {
      "cell_type": "code",
      "source": [
        "most_imp_snts = data_val_with_preds.merge(pred_df[['file_name', 'target_pred']], how='right') \\\n",
        "    .sort_values(by=['file_name', 'pred_proba'], ascending=[True, False])\n",
        "\n",
        "most_imp_snts['aware_ord'] = most_imp_snts.groupby('file_name').cumcount()"
      ],
      "metadata": {
        "id": "1n7RVj7EjOaD"
      },
      "execution_count": 51,
      "outputs": []
    },
    {
      "cell_type": "code",
      "source": [
        "most_imp_snts[most_imp_snts.aware_ord < 5].sentence.values[:5]"
      ],
      "metadata": {
        "colab": {
          "base_uri": "https://localhost:8080/"
        },
        "id": "BmnkZm5skpBs",
        "outputId": "e1a9568c-40e8-45be-a858-9d47ccc10675"
      },
      "execution_count": 52,
      "outputs": [
        {
          "output_type": "execute_result",
          "data": {
            "text/plain": [
              "array(['ОТВЕТСТВЕННОСТЬ СТОРОН 5.1. При неисполнении, ненадлежащем исполнении принятых на себя обязательств стороны несут следующую ответственность: Подрядчик: — за некачественное выполнение работ — _______________________; (мера ответственности) — за просрочку выполнения работ — ____________________________; (мера ответственности) — за непередачу оговоренной в пункт 4.7 договора информации — ___________________________________________________________________.',\n",
              "       'Заказчик оплачивает Подрядчику обусловленную пункт 3.1 договора стоимость работ ____________________________________________________________________________ (указать порядок оплаты — после окончания работы согласно акту приемки, или досрочно в качестве предоплаты, или иной порядок) (срок) ____________________________________________________________________________ ____________________________________ в течение ____________________.',\n",
              "       'При просрочке выполнения работ по устранению недостатков Подрядчик несет ответственность в виде _____________________________________________________.',\n",
              "       'Заказчик обязан в срок_____________________________ с участием Подрядчика осмотреть и принять результат выполненной работы, подписав акт приемки.',\n",
              "       'ПРЕДМЕТ ДОГОВОРА 1.1. Подрядчик обязуется выполнить по заданию Заказчика следующую работу: _______________________________________________________________________________________________________________________________________________________ (указать, какую работу, ее объем, качество) ________________________________________________________________________________________________________________________________________________________ _______________________________________________________________________________________________________________________________________________________, а Заказчик обязуется принять результат работы и оплатить его.'],\n",
              "      dtype=object)"
            ]
          },
          "metadata": {},
          "execution_count": 52
        }
      ]
    },
    {
      "cell_type": "code",
      "source": [
        "pred_df[pred_df.ord == 0]"
      ],
      "metadata": {
        "colab": {
          "base_uri": "https://localhost:8080/",
          "height": 614
        },
        "id": "QDE-aXpnbhyE",
        "outputId": "26532a43-53c7-49c3-952e-edb45f38af8c"
      },
      "execution_count": 53,
      "outputs": [
        {
          "output_type": "execute_result",
          "data": {
            "text/plain": [
              "                                file_name              target_pred     proba  \\\n",
              "0   03a70fe60be9ecc2a63798a361fc9689.docx         Договоры подряда  0.828571   \n",
              "4    073a0d372820c3c2bffe9ba24a7ed7af.doc   Договоры купли-продажи  0.692308   \n",
              "8    084edc7dfc3db04e3a3c55c102f47bcb.doc          Договоры аренды  0.882353   \n",
              "12   086ad48895d2a73854b6151decc28800.pdf   Договоры купли-продажи  0.627451   \n",
              "17   0ca2f9faecdbc67d6686a9f5b6636eba.doc   Договоры купли-продажи  0.736842   \n",
              "21   137eaaa047f557233943012897e46cec.doc        Договоры поставки  0.512821   \n",
              "25   2fd747f38e30ae7ce1c9d6e3b907ac5d.doc        Договоры поставки  0.739130   \n",
              "30   6b18c046e7ccfdaf9123c11980f56c35.doc         Договоры подряда  0.720930   \n",
              "34  7a120d4c7cec157324effa671e2d0812.docx         Договоры подряда  0.765101   \n",
              "38   86d6d0062e91651ccc3d3ce35b162bf8.doc   Договоры купли-продажи  0.500000   \n",
              "42   8b82f3c800e486d9da9a13c98f7a40d6.doc        Договоры поставки  0.844961   \n",
              "46   97d4cf03b88c9e040557ab1b61e2e7a2.doc          Договоры аренды  0.603774   \n",
              "51   981d5a0ebbecffa588848251d0750fec.doc         Договоры подряда  0.909091   \n",
              "55  b19a67817142ea9f2231aa63dfd2981c.docx  Договоры оказания услуг  0.702703   \n",
              "59   bdfb262c00991dddebfc5d4a87604284.doc          Договоры аренды  1.000000   \n",
              "60   d0e8ce466209873b70ddfdbacf0eef71.doc  Договоры оказания услуг  0.727273   \n",
              "63   d143c89d002fcef3e2bd2efdb4966f55.doc        Договоры поставки  0.666667   \n",
              "67   d54c0b06162cf7cf57e8b1e7356aa204.doc  Договоры оказания услуг  0.858974   \n",
              "\n",
              "                     target  ord  \n",
              "0          Договоры подряда    0  \n",
              "4    Договоры купли-продажи    0  \n",
              "8           Договоры аренды    0  \n",
              "12   Договоры купли-продажи    0  \n",
              "17   Договоры купли-продажи    0  \n",
              "21   Договоры купли-продажи    0  \n",
              "25        Договоры поставки    0  \n",
              "30         Договоры подряда    0  \n",
              "34         Договоры подряда    0  \n",
              "38   Договоры купли-продажи    0  \n",
              "42        Договоры поставки    0  \n",
              "46          Договоры аренды    0  \n",
              "51         Договоры подряда    0  \n",
              "55  Договоры оказания услуг    0  \n",
              "59          Договоры аренды    0  \n",
              "60  Договоры оказания услуг    0  \n",
              "63        Договоры поставки    0  \n",
              "67  Договоры оказания услуг    0  "
            ],
            "text/html": [
              "\n",
              "  <div id=\"df-5c9d92ab-1b62-42ab-8e33-e05ef55803ed\">\n",
              "    <div class=\"colab-df-container\">\n",
              "      <div>\n",
              "<style scoped>\n",
              "    .dataframe tbody tr th:only-of-type {\n",
              "        vertical-align: middle;\n",
              "    }\n",
              "\n",
              "    .dataframe tbody tr th {\n",
              "        vertical-align: top;\n",
              "    }\n",
              "\n",
              "    .dataframe thead th {\n",
              "        text-align: right;\n",
              "    }\n",
              "</style>\n",
              "<table border=\"1\" class=\"dataframe\">\n",
              "  <thead>\n",
              "    <tr style=\"text-align: right;\">\n",
              "      <th></th>\n",
              "      <th>file_name</th>\n",
              "      <th>target_pred</th>\n",
              "      <th>proba</th>\n",
              "      <th>target</th>\n",
              "      <th>ord</th>\n",
              "    </tr>\n",
              "  </thead>\n",
              "  <tbody>\n",
              "    <tr>\n",
              "      <th>0</th>\n",
              "      <td>03a70fe60be9ecc2a63798a361fc9689.docx</td>\n",
              "      <td>Договоры подряда</td>\n",
              "      <td>0.828571</td>\n",
              "      <td>Договоры подряда</td>\n",
              "      <td>0</td>\n",
              "    </tr>\n",
              "    <tr>\n",
              "      <th>4</th>\n",
              "      <td>073a0d372820c3c2bffe9ba24a7ed7af.doc</td>\n",
              "      <td>Договоры купли-продажи</td>\n",
              "      <td>0.692308</td>\n",
              "      <td>Договоры купли-продажи</td>\n",
              "      <td>0</td>\n",
              "    </tr>\n",
              "    <tr>\n",
              "      <th>8</th>\n",
              "      <td>084edc7dfc3db04e3a3c55c102f47bcb.doc</td>\n",
              "      <td>Договоры аренды</td>\n",
              "      <td>0.882353</td>\n",
              "      <td>Договоры аренды</td>\n",
              "      <td>0</td>\n",
              "    </tr>\n",
              "    <tr>\n",
              "      <th>12</th>\n",
              "      <td>086ad48895d2a73854b6151decc28800.pdf</td>\n",
              "      <td>Договоры купли-продажи</td>\n",
              "      <td>0.627451</td>\n",
              "      <td>Договоры купли-продажи</td>\n",
              "      <td>0</td>\n",
              "    </tr>\n",
              "    <tr>\n",
              "      <th>17</th>\n",
              "      <td>0ca2f9faecdbc67d6686a9f5b6636eba.doc</td>\n",
              "      <td>Договоры купли-продажи</td>\n",
              "      <td>0.736842</td>\n",
              "      <td>Договоры купли-продажи</td>\n",
              "      <td>0</td>\n",
              "    </tr>\n",
              "    <tr>\n",
              "      <th>21</th>\n",
              "      <td>137eaaa047f557233943012897e46cec.doc</td>\n",
              "      <td>Договоры поставки</td>\n",
              "      <td>0.512821</td>\n",
              "      <td>Договоры купли-продажи</td>\n",
              "      <td>0</td>\n",
              "    </tr>\n",
              "    <tr>\n",
              "      <th>25</th>\n",
              "      <td>2fd747f38e30ae7ce1c9d6e3b907ac5d.doc</td>\n",
              "      <td>Договоры поставки</td>\n",
              "      <td>0.739130</td>\n",
              "      <td>Договоры поставки</td>\n",
              "      <td>0</td>\n",
              "    </tr>\n",
              "    <tr>\n",
              "      <th>30</th>\n",
              "      <td>6b18c046e7ccfdaf9123c11980f56c35.doc</td>\n",
              "      <td>Договоры подряда</td>\n",
              "      <td>0.720930</td>\n",
              "      <td>Договоры подряда</td>\n",
              "      <td>0</td>\n",
              "    </tr>\n",
              "    <tr>\n",
              "      <th>34</th>\n",
              "      <td>7a120d4c7cec157324effa671e2d0812.docx</td>\n",
              "      <td>Договоры подряда</td>\n",
              "      <td>0.765101</td>\n",
              "      <td>Договоры подряда</td>\n",
              "      <td>0</td>\n",
              "    </tr>\n",
              "    <tr>\n",
              "      <th>38</th>\n",
              "      <td>86d6d0062e91651ccc3d3ce35b162bf8.doc</td>\n",
              "      <td>Договоры купли-продажи</td>\n",
              "      <td>0.500000</td>\n",
              "      <td>Договоры купли-продажи</td>\n",
              "      <td>0</td>\n",
              "    </tr>\n",
              "    <tr>\n",
              "      <th>42</th>\n",
              "      <td>8b82f3c800e486d9da9a13c98f7a40d6.doc</td>\n",
              "      <td>Договоры поставки</td>\n",
              "      <td>0.844961</td>\n",
              "      <td>Договоры поставки</td>\n",
              "      <td>0</td>\n",
              "    </tr>\n",
              "    <tr>\n",
              "      <th>46</th>\n",
              "      <td>97d4cf03b88c9e040557ab1b61e2e7a2.doc</td>\n",
              "      <td>Договоры аренды</td>\n",
              "      <td>0.603774</td>\n",
              "      <td>Договоры аренды</td>\n",
              "      <td>0</td>\n",
              "    </tr>\n",
              "    <tr>\n",
              "      <th>51</th>\n",
              "      <td>981d5a0ebbecffa588848251d0750fec.doc</td>\n",
              "      <td>Договоры подряда</td>\n",
              "      <td>0.909091</td>\n",
              "      <td>Договоры подряда</td>\n",
              "      <td>0</td>\n",
              "    </tr>\n",
              "    <tr>\n",
              "      <th>55</th>\n",
              "      <td>b19a67817142ea9f2231aa63dfd2981c.docx</td>\n",
              "      <td>Договоры оказания услуг</td>\n",
              "      <td>0.702703</td>\n",
              "      <td>Договоры оказания услуг</td>\n",
              "      <td>0</td>\n",
              "    </tr>\n",
              "    <tr>\n",
              "      <th>59</th>\n",
              "      <td>bdfb262c00991dddebfc5d4a87604284.doc</td>\n",
              "      <td>Договоры аренды</td>\n",
              "      <td>1.000000</td>\n",
              "      <td>Договоры аренды</td>\n",
              "      <td>0</td>\n",
              "    </tr>\n",
              "    <tr>\n",
              "      <th>60</th>\n",
              "      <td>d0e8ce466209873b70ddfdbacf0eef71.doc</td>\n",
              "      <td>Договоры оказания услуг</td>\n",
              "      <td>0.727273</td>\n",
              "      <td>Договоры оказания услуг</td>\n",
              "      <td>0</td>\n",
              "    </tr>\n",
              "    <tr>\n",
              "      <th>63</th>\n",
              "      <td>d143c89d002fcef3e2bd2efdb4966f55.doc</td>\n",
              "      <td>Договоры поставки</td>\n",
              "      <td>0.666667</td>\n",
              "      <td>Договоры поставки</td>\n",
              "      <td>0</td>\n",
              "    </tr>\n",
              "    <tr>\n",
              "      <th>67</th>\n",
              "      <td>d54c0b06162cf7cf57e8b1e7356aa204.doc</td>\n",
              "      <td>Договоры оказания услуг</td>\n",
              "      <td>0.858974</td>\n",
              "      <td>Договоры оказания услуг</td>\n",
              "      <td>0</td>\n",
              "    </tr>\n",
              "  </tbody>\n",
              "</table>\n",
              "</div>\n",
              "      <button class=\"colab-df-convert\" onclick=\"convertToInteractive('df-5c9d92ab-1b62-42ab-8e33-e05ef55803ed')\"\n",
              "              title=\"Convert this dataframe to an interactive table.\"\n",
              "              style=\"display:none;\">\n",
              "        \n",
              "  <svg xmlns=\"http://www.w3.org/2000/svg\" height=\"24px\"viewBox=\"0 0 24 24\"\n",
              "       width=\"24px\">\n",
              "    <path d=\"M0 0h24v24H0V0z\" fill=\"none\"/>\n",
              "    <path d=\"M18.56 5.44l.94 2.06.94-2.06 2.06-.94-2.06-.94-.94-2.06-.94 2.06-2.06.94zm-11 1L8.5 8.5l.94-2.06 2.06-.94-2.06-.94L8.5 2.5l-.94 2.06-2.06.94zm10 10l.94 2.06.94-2.06 2.06-.94-2.06-.94-.94-2.06-.94 2.06-2.06.94z\"/><path d=\"M17.41 7.96l-1.37-1.37c-.4-.4-.92-.59-1.43-.59-.52 0-1.04.2-1.43.59L10.3 9.45l-7.72 7.72c-.78.78-.78 2.05 0 2.83L4 21.41c.39.39.9.59 1.41.59.51 0 1.02-.2 1.41-.59l7.78-7.78 2.81-2.81c.8-.78.8-2.07 0-2.86zM5.41 20L4 18.59l7.72-7.72 1.47 1.35L5.41 20z\"/>\n",
              "  </svg>\n",
              "      </button>\n",
              "      \n",
              "  <style>\n",
              "    .colab-df-container {\n",
              "      display:flex;\n",
              "      flex-wrap:wrap;\n",
              "      gap: 12px;\n",
              "    }\n",
              "\n",
              "    .colab-df-convert {\n",
              "      background-color: #E8F0FE;\n",
              "      border: none;\n",
              "      border-radius: 50%;\n",
              "      cursor: pointer;\n",
              "      display: none;\n",
              "      fill: #1967D2;\n",
              "      height: 32px;\n",
              "      padding: 0 0 0 0;\n",
              "      width: 32px;\n",
              "    }\n",
              "\n",
              "    .colab-df-convert:hover {\n",
              "      background-color: #E2EBFA;\n",
              "      box-shadow: 0px 1px 2px rgba(60, 64, 67, 0.3), 0px 1px 3px 1px rgba(60, 64, 67, 0.15);\n",
              "      fill: #174EA6;\n",
              "    }\n",
              "\n",
              "    [theme=dark] .colab-df-convert {\n",
              "      background-color: #3B4455;\n",
              "      fill: #D2E3FC;\n",
              "    }\n",
              "\n",
              "    [theme=dark] .colab-df-convert:hover {\n",
              "      background-color: #434B5C;\n",
              "      box-shadow: 0px 1px 3px 1px rgba(0, 0, 0, 0.15);\n",
              "      filter: drop-shadow(0px 1px 2px rgba(0, 0, 0, 0.3));\n",
              "      fill: #FFFFFF;\n",
              "    }\n",
              "  </style>\n",
              "\n",
              "      <script>\n",
              "        const buttonEl =\n",
              "          document.querySelector('#df-5c9d92ab-1b62-42ab-8e33-e05ef55803ed button.colab-df-convert');\n",
              "        buttonEl.style.display =\n",
              "          google.colab.kernel.accessAllowed ? 'block' : 'none';\n",
              "\n",
              "        async function convertToInteractive(key) {\n",
              "          const element = document.querySelector('#df-5c9d92ab-1b62-42ab-8e33-e05ef55803ed');\n",
              "          const dataTable =\n",
              "            await google.colab.kernel.invokeFunction('convertToInteractive',\n",
              "                                                     [key], {});\n",
              "          if (!dataTable) return;\n",
              "\n",
              "          const docLinkHtml = 'Like what you see? Visit the ' +\n",
              "            '<a target=\"_blank\" href=https://colab.research.google.com/notebooks/data_table.ipynb>data table notebook</a>'\n",
              "            + ' to learn more about interactive tables.';\n",
              "          element.innerHTML = '';\n",
              "          dataTable['output_type'] = 'display_data';\n",
              "          await google.colab.output.renderOutput(dataTable, element);\n",
              "          const docLink = document.createElement('div');\n",
              "          docLink.innerHTML = docLinkHtml;\n",
              "          element.appendChild(docLink);\n",
              "        }\n",
              "      </script>\n",
              "    </div>\n",
              "  </div>\n",
              "  "
            ]
          },
          "metadata": {},
          "execution_count": 53
        }
      ]
    },
    {
      "cell_type": "code",
      "source": [
        "print('\\nVAL DATA (Documents):\\n', classification_report(pred_df[pred_df.ord == 0].target, pred_df[pred_df.ord == 0].target_pred))"
      ],
      "metadata": {
        "colab": {
          "base_uri": "https://localhost:8080/"
        },
        "id": "sx4CdRaFcThU",
        "outputId": "91e358c2-1434-4127-f7ad-061549d92456"
      },
      "execution_count": 54,
      "outputs": [
        {
          "output_type": "stream",
          "name": "stdout",
          "text": [
            "\n",
            "VAL DATA (Documents):\n",
            "                          precision    recall  f1-score   support\n",
            "\n",
            "        Договоры аренды       1.00      1.00      1.00         3\n",
            " Договоры купли-продажи       1.00      0.80      0.89         5\n",
            "Договоры оказания услуг       1.00      1.00      1.00         3\n",
            "       Договоры подряда       1.00      1.00      1.00         4\n",
            "      Договоры поставки       0.75      1.00      0.86         3\n",
            "\n",
            "               accuracy                           0.94        18\n",
            "              macro avg       0.95      0.96      0.95        18\n",
            "           weighted avg       0.96      0.94      0.95        18\n",
            "\n"
          ]
        }
      ]
    },
    {
      "cell_type": "code",
      "source": [
        "# Оценка на тестовой выборке\n",
        "\n",
        "pred_test_labels, pred_test_probs = inference_model(model, test_data, BATCH_SIZE, return_proba=True)\n",
        "\n",
        "data_test_with_preds = data_test.copy()\n",
        "\n",
        "data_test_with_preds['target_pred'] = pred_test_labels\n",
        "data_test_with_preds['pred_proba'] = pred_test_probs\n",
        "data_test_with_preds['target_pred'] = data_test_with_preds['target_pred'].map(idx2item)\n",
        "\n",
        "print('\\nTEST DATA (sentences):\\n', classification_report(data_test_with_preds.target, data_test_with_preds.target_pred))"
      ],
      "metadata": {
        "id": "gSXRZhhVcKyX",
        "colab": {
          "base_uri": "https://localhost:8080/"
        },
        "outputId": "8061fba6-5f65-42af-84c4-0522c6025415"
      },
      "execution_count": 56,
      "outputs": [
        {
          "output_type": "stream",
          "name": "stderr",
          "text": [
            "100%|██████████| 252/252 [00:01<00:00, 188.82it/s]\n"
          ]
        },
        {
          "output_type": "stream",
          "name": "stdout",
          "text": [
            "\n",
            "TEST DATA (sentences):\n",
            "                          precision    recall  f1-score   support\n",
            "\n",
            "        Договоры аренды       0.69      0.83      0.76        99\n",
            " Договоры купли-продажи       0.94      0.51      0.66       177\n",
            "Договоры оказания услуг       0.78      0.80      0.79       409\n",
            "       Договоры подряда       0.72      0.71      0.71       181\n",
            "      Договоры поставки       0.57      0.78      0.66       141\n",
            "\n",
            "               accuracy                           0.73      1007\n",
            "              macro avg       0.74      0.73      0.72      1007\n",
            "           weighted avg       0.76      0.73      0.73      1007\n",
            "\n"
          ]
        }
      ]
    },
    {
      "cell_type": "code",
      "source": [
        "data_test_with_preds.snt_order.value_counts()"
      ],
      "metadata": {
        "colab": {
          "base_uri": "https://localhost:8080/"
        },
        "id": "K33iPZuABkGB",
        "outputId": "25ad9efc-1fb2-430c-fe69-55ee5d22750b"
      },
      "execution_count": 58,
      "outputs": [
        {
          "output_type": "execute_result",
          "data": {
            "text/plain": [
              "1      18\n",
              "8      18\n",
              "16     18\n",
              "13     18\n",
              "12     18\n",
              "       ..\n",
              "107     1\n",
              "108     1\n",
              "109     1\n",
              "110     1\n",
              "146     1\n",
              "Name: snt_order, Length: 146, dtype: int64"
            ]
          },
          "metadata": {},
          "execution_count": 58
        }
      ]
    },
    {
      "cell_type": "code",
      "source": [
        "print('\\nTEST DATA (sentences):\\n', classification_report(data_test_with_preds[data_test_with_preds.snt_order < 150].target,\n",
        "                                                          data_test_with_preds[data_test_with_preds.snt_order < 150].target_pred))"
      ],
      "metadata": {
        "colab": {
          "base_uri": "https://localhost:8080/"
        },
        "id": "ttQN8BP2BJvg",
        "outputId": "6218a294-96ae-4e9c-f714-d6ebb40b9c3c"
      },
      "execution_count": 57,
      "outputs": [
        {
          "output_type": "stream",
          "name": "stdout",
          "text": [
            "\n",
            "TEST DATA (sentences):\n",
            "                          precision    recall  f1-score   support\n",
            "\n",
            "        Договоры аренды       0.69      0.83      0.76        99\n",
            " Договоры купли-продажи       0.94      0.51      0.66       177\n",
            "Договоры оказания услуг       0.78      0.80      0.79       409\n",
            "       Договоры подряда       0.72      0.71      0.71       181\n",
            "      Договоры поставки       0.57      0.78      0.66       141\n",
            "\n",
            "               accuracy                           0.73      1007\n",
            "              macro avg       0.74      0.73      0.72      1007\n",
            "           weighted avg       0.76      0.73      0.73      1007\n",
            "\n"
          ]
        }
      ]
    },
    {
      "cell_type": "code",
      "source": [
        "pred_df = data_test_with_preds.groupby('file_name').target_pred.value_counts(normalize=True).to_frame()\n",
        "pred_df.columns = ['proba']\n",
        "pred_df.reset_index(inplace=True)\n",
        "\n",
        "true_df = data_test_with_preds[['file_name', 'target']].drop_duplicates()\n",
        "\n",
        "pred_df = pred_df.merge(true_df)\n",
        "pred_df['ord'] = pred_df.groupby('file_name').cumcount()"
      ],
      "metadata": {
        "id": "v9W4KrO2cTe5"
      },
      "execution_count": 25,
      "outputs": []
    },
    {
      "cell_type": "code",
      "source": [
        "most_imp_snts = data_test_with_preds.merge(pred_df[['file_name', 'target_pred']], how='right') \\\n",
        "    .sort_values(by=['file_name', 'pred_proba'], ascending=[True, False])\n",
        "\n",
        "most_imp_snts['aware_ord'] = most_imp_snts.groupby('file_name').cumcount()"
      ],
      "metadata": {
        "id": "hEQs5wifb0or"
      },
      "execution_count": 26,
      "outputs": []
    },
    {
      "cell_type": "code",
      "source": [
        "print('\\nTEST DATA (Documents):\\n', classification_report(pred_df[pred_df.ord == 0].target, pred_df[pred_df.ord == 0].target_pred))"
      ],
      "metadata": {
        "colab": {
          "base_uri": "https://localhost:8080/"
        },
        "id": "YQcSfzLK5zWt",
        "outputId": "8e86ff9a-6faf-4628-93a2-b43d29874a9e"
      },
      "execution_count": 27,
      "outputs": [
        {
          "output_type": "stream",
          "name": "stdout",
          "text": [
            "\n",
            "TEST DATA (Documents):\n",
            "                          precision    recall  f1-score   support\n",
            "\n",
            "        Договоры аренды       1.00      1.00      1.00         3\n",
            " Договоры купли-продажи       1.00      0.75      0.86         4\n",
            "Договоры оказания услуг       0.83      1.00      0.91         5\n",
            "       Договоры подряда       1.00      1.00      1.00         3\n",
            "      Договоры поставки       1.00      1.00      1.00         3\n",
            "\n",
            "               accuracy                           0.94        18\n",
            "              macro avg       0.97      0.95      0.95        18\n",
            "           weighted avg       0.95      0.94      0.94        18\n",
            "\n"
          ]
        }
      ]
    },
    {
      "cell_type": "code",
      "source": [],
      "metadata": {
        "id": "FhzJh2GJ5zeR"
      },
      "execution_count": null,
      "outputs": []
    },
    {
      "cell_type": "code",
      "source": [],
      "metadata": {
        "id": "5gplgO_M5zg2"
      },
      "execution_count": null,
      "outputs": []
    },
    {
      "cell_type": "code",
      "source": [],
      "metadata": {
        "id": "y_QCrGN65zj9"
      },
      "execution_count": null,
      "outputs": []
    },
    {
      "cell_type": "code",
      "source": [],
      "metadata": {
        "id": "Kd9jTWHI5zmU"
      },
      "execution_count": null,
      "outputs": []
    },
    {
      "cell_type": "code",
      "source": [
        "# Посмотрим, где ошиблась модель\n",
        "\n",
        "data_val_with_preds[data_val_with_preds.target != data_val_with_preds.target_pred]"
      ],
      "metadata": {
        "colab": {
          "base_uri": "https://localhost:8080/",
          "height": 641
        },
        "id": "3JfSFF-oV5p1",
        "outputId": "1e36fa98-6e29-42f6-f20d-e1ce507d3bfc"
      },
      "execution_count": null,
      "outputs": [
        {
          "output_type": "execute_result",
          "data": {
            "text/plain": [
              "                                         sentence_clear  \\\n",
              "98                                     предмет договора   \n",
              "106                                    вправе не вправе   \n",
              "110   сроки устранения недостатков неисправностей с ...   \n",
              "113                                                дата   \n",
              "116   если сторона благодаря исполнению своего обяза...   \n",
              "...                                                 ...   \n",
              "8539  should the parties fail to settle their disput...   \n",
              "8543  the arbitration award shall be final and bindi...   \n",
              "8546  настоящий договор составлен в двух экземплярах...   \n",
              "8551  сообщение или документ считаются полученными с...   \n",
              "8558                          адреса и реквизиты сторон   \n",
              "\n",
              "                       target                              file_name  \\\n",
              "98           Договоры подряда  03a70fe60be9ecc2a63798a361fc9689.docx   \n",
              "106          Договоры подряда  03a70fe60be9ecc2a63798a361fc9689.docx   \n",
              "110          Договоры подряда  03a70fe60be9ecc2a63798a361fc9689.docx   \n",
              "113          Договоры подряда  03a70fe60be9ecc2a63798a361fc9689.docx   \n",
              "116          Договоры подряда  03a70fe60be9ecc2a63798a361fc9689.docx   \n",
              "...                       ...                                    ...   \n",
              "8539  Договоры оказания услуг   d54c0b06162cf7cf57e8b1e7356aa204.doc   \n",
              "8543  Договоры оказания услуг   d54c0b06162cf7cf57e8b1e7356aa204.doc   \n",
              "8546  Договоры оказания услуг   d54c0b06162cf7cf57e8b1e7356aa204.doc   \n",
              "8551  Договоры оказания услуг   d54c0b06162cf7cf57e8b1e7356aa204.doc   \n",
              "8558  Договоры оказания услуг   d54c0b06162cf7cf57e8b1e7356aa204.doc   \n",
              "\n",
              "      snt_order                                           sentence  \\\n",
              "98            2                              ПРЕДМЕТ ДОГОВОРА 1.1.   \n",
              "106          10                           (вправе, не вправе) 2.3.   \n",
              "110          14  Сроки устранения недостатков, неисправностей _...   \n",
              "113          17                                        (дата) 2.6.   \n",
              "116          20  Если сторона благодаря исполнению своего обяза...   \n",
              "...         ...                                                ...   \n",
              "8539         74  Should the Parties fail to settle their disput...   \n",
              "8543         78  The arbitration award shall be final and bindi...   \n",
              "8546         81  5.5. Настоящий Договор составлен в двух экземп...   \n",
              "8551         86  Сообщение или документ считаются полученными С...   \n",
              "8558         93                    6. Адреса и реквизиты сторон 6.   \n",
              "\n",
              "                  target_pred  \n",
              "98    Договоры оказания услуг  \n",
              "106   Договоры оказания услуг  \n",
              "110   Договоры оказания услуг  \n",
              "113   Договоры оказания услуг  \n",
              "116   Договоры оказания услуг  \n",
              "...                       ...  \n",
              "8539        Договоры поставки  \n",
              "8543          Договоры аренды  \n",
              "8546   Договоры купли-продажи  \n",
              "8551        Договоры поставки  \n",
              "8558        Договоры поставки  \n",
              "\n",
              "[464 rows x 6 columns]"
            ],
            "text/html": [
              "\n",
              "  <div id=\"df-65845f5d-cd66-4dee-bb49-d832368d98a2\">\n",
              "    <div class=\"colab-df-container\">\n",
              "      <div>\n",
              "<style scoped>\n",
              "    .dataframe tbody tr th:only-of-type {\n",
              "        vertical-align: middle;\n",
              "    }\n",
              "\n",
              "    .dataframe tbody tr th {\n",
              "        vertical-align: top;\n",
              "    }\n",
              "\n",
              "    .dataframe thead th {\n",
              "        text-align: right;\n",
              "    }\n",
              "</style>\n",
              "<table border=\"1\" class=\"dataframe\">\n",
              "  <thead>\n",
              "    <tr style=\"text-align: right;\">\n",
              "      <th></th>\n",
              "      <th>sentence_clear</th>\n",
              "      <th>target</th>\n",
              "      <th>file_name</th>\n",
              "      <th>snt_order</th>\n",
              "      <th>sentence</th>\n",
              "      <th>target_pred</th>\n",
              "    </tr>\n",
              "  </thead>\n",
              "  <tbody>\n",
              "    <tr>\n",
              "      <th>98</th>\n",
              "      <td>предмет договора</td>\n",
              "      <td>Договоры подряда</td>\n",
              "      <td>03a70fe60be9ecc2a63798a361fc9689.docx</td>\n",
              "      <td>2</td>\n",
              "      <td>ПРЕДМЕТ ДОГОВОРА 1.1.</td>\n",
              "      <td>Договоры оказания услуг</td>\n",
              "    </tr>\n",
              "    <tr>\n",
              "      <th>106</th>\n",
              "      <td>вправе не вправе</td>\n",
              "      <td>Договоры подряда</td>\n",
              "      <td>03a70fe60be9ecc2a63798a361fc9689.docx</td>\n",
              "      <td>10</td>\n",
              "      <td>(вправе, не вправе) 2.3.</td>\n",
              "      <td>Договоры оказания услуг</td>\n",
              "    </tr>\n",
              "    <tr>\n",
              "      <th>110</th>\n",
              "      <td>сроки устранения недостатков неисправностей с ...</td>\n",
              "      <td>Договоры подряда</td>\n",
              "      <td>03a70fe60be9ecc2a63798a361fc9689.docx</td>\n",
              "      <td>14</td>\n",
              "      <td>Сроки устранения недостатков, неисправностей _...</td>\n",
              "      <td>Договоры оказания услуг</td>\n",
              "    </tr>\n",
              "    <tr>\n",
              "      <th>113</th>\n",
              "      <td>дата</td>\n",
              "      <td>Договоры подряда</td>\n",
              "      <td>03a70fe60be9ecc2a63798a361fc9689.docx</td>\n",
              "      <td>17</td>\n",
              "      <td>(дата) 2.6.</td>\n",
              "      <td>Договоры оказания услуг</td>\n",
              "    </tr>\n",
              "    <tr>\n",
              "      <th>116</th>\n",
              "      <td>если сторона благодаря исполнению своего обяза...</td>\n",
              "      <td>Договоры подряда</td>\n",
              "      <td>03a70fe60be9ecc2a63798a361fc9689.docx</td>\n",
              "      <td>20</td>\n",
              "      <td>Если сторона благодаря исполнению своего обяза...</td>\n",
              "      <td>Договоры оказания услуг</td>\n",
              "    </tr>\n",
              "    <tr>\n",
              "      <th>...</th>\n",
              "      <td>...</td>\n",
              "      <td>...</td>\n",
              "      <td>...</td>\n",
              "      <td>...</td>\n",
              "      <td>...</td>\n",
              "      <td>...</td>\n",
              "    </tr>\n",
              "    <tr>\n",
              "      <th>8539</th>\n",
              "      <td>should the parties fail to settle their disput...</td>\n",
              "      <td>Договоры оказания услуг</td>\n",
              "      <td>d54c0b06162cf7cf57e8b1e7356aa204.doc</td>\n",
              "      <td>74</td>\n",
              "      <td>Should the Parties fail to settle their disput...</td>\n",
              "      <td>Договоры поставки</td>\n",
              "    </tr>\n",
              "    <tr>\n",
              "      <th>8543</th>\n",
              "      <td>the arbitration award shall be final and bindi...</td>\n",
              "      <td>Договоры оказания услуг</td>\n",
              "      <td>d54c0b06162cf7cf57e8b1e7356aa204.doc</td>\n",
              "      <td>78</td>\n",
              "      <td>The arbitration award shall be final and bindi...</td>\n",
              "      <td>Договоры аренды</td>\n",
              "    </tr>\n",
              "    <tr>\n",
              "      <th>8546</th>\n",
              "      <td>настоящий договор составлен в двух экземплярах...</td>\n",
              "      <td>Договоры оказания услуг</td>\n",
              "      <td>d54c0b06162cf7cf57e8b1e7356aa204.doc</td>\n",
              "      <td>81</td>\n",
              "      <td>5.5. Настоящий Договор составлен в двух экземп...</td>\n",
              "      <td>Договоры купли-продажи</td>\n",
              "    </tr>\n",
              "    <tr>\n",
              "      <th>8551</th>\n",
              "      <td>сообщение или документ считаются полученными с...</td>\n",
              "      <td>Договоры оказания услуг</td>\n",
              "      <td>d54c0b06162cf7cf57e8b1e7356aa204.doc</td>\n",
              "      <td>86</td>\n",
              "      <td>Сообщение или документ считаются полученными С...</td>\n",
              "      <td>Договоры поставки</td>\n",
              "    </tr>\n",
              "    <tr>\n",
              "      <th>8558</th>\n",
              "      <td>адреса и реквизиты сторон</td>\n",
              "      <td>Договоры оказания услуг</td>\n",
              "      <td>d54c0b06162cf7cf57e8b1e7356aa204.doc</td>\n",
              "      <td>93</td>\n",
              "      <td>6. Адреса и реквизиты сторон 6.</td>\n",
              "      <td>Договоры поставки</td>\n",
              "    </tr>\n",
              "  </tbody>\n",
              "</table>\n",
              "<p>464 rows × 6 columns</p>\n",
              "</div>\n",
              "      <button class=\"colab-df-convert\" onclick=\"convertToInteractive('df-65845f5d-cd66-4dee-bb49-d832368d98a2')\"\n",
              "              title=\"Convert this dataframe to an interactive table.\"\n",
              "              style=\"display:none;\">\n",
              "        \n",
              "  <svg xmlns=\"http://www.w3.org/2000/svg\" height=\"24px\"viewBox=\"0 0 24 24\"\n",
              "       width=\"24px\">\n",
              "    <path d=\"M0 0h24v24H0V0z\" fill=\"none\"/>\n",
              "    <path d=\"M18.56 5.44l.94 2.06.94-2.06 2.06-.94-2.06-.94-.94-2.06-.94 2.06-2.06.94zm-11 1L8.5 8.5l.94-2.06 2.06-.94-2.06-.94L8.5 2.5l-.94 2.06-2.06.94zm10 10l.94 2.06.94-2.06 2.06-.94-2.06-.94-.94-2.06-.94 2.06-2.06.94z\"/><path d=\"M17.41 7.96l-1.37-1.37c-.4-.4-.92-.59-1.43-.59-.52 0-1.04.2-1.43.59L10.3 9.45l-7.72 7.72c-.78.78-.78 2.05 0 2.83L4 21.41c.39.39.9.59 1.41.59.51 0 1.02-.2 1.41-.59l7.78-7.78 2.81-2.81c.8-.78.8-2.07 0-2.86zM5.41 20L4 18.59l7.72-7.72 1.47 1.35L5.41 20z\"/>\n",
              "  </svg>\n",
              "      </button>\n",
              "      \n",
              "  <style>\n",
              "    .colab-df-container {\n",
              "      display:flex;\n",
              "      flex-wrap:wrap;\n",
              "      gap: 12px;\n",
              "    }\n",
              "\n",
              "    .colab-df-convert {\n",
              "      background-color: #E8F0FE;\n",
              "      border: none;\n",
              "      border-radius: 50%;\n",
              "      cursor: pointer;\n",
              "      display: none;\n",
              "      fill: #1967D2;\n",
              "      height: 32px;\n",
              "      padding: 0 0 0 0;\n",
              "      width: 32px;\n",
              "    }\n",
              "\n",
              "    .colab-df-convert:hover {\n",
              "      background-color: #E2EBFA;\n",
              "      box-shadow: 0px 1px 2px rgba(60, 64, 67, 0.3), 0px 1px 3px 1px rgba(60, 64, 67, 0.15);\n",
              "      fill: #174EA6;\n",
              "    }\n",
              "\n",
              "    [theme=dark] .colab-df-convert {\n",
              "      background-color: #3B4455;\n",
              "      fill: #D2E3FC;\n",
              "    }\n",
              "\n",
              "    [theme=dark] .colab-df-convert:hover {\n",
              "      background-color: #434B5C;\n",
              "      box-shadow: 0px 1px 3px 1px rgba(0, 0, 0, 0.15);\n",
              "      filter: drop-shadow(0px 1px 2px rgba(0, 0, 0, 0.3));\n",
              "      fill: #FFFFFF;\n",
              "    }\n",
              "  </style>\n",
              "\n",
              "      <script>\n",
              "        const buttonEl =\n",
              "          document.querySelector('#df-65845f5d-cd66-4dee-bb49-d832368d98a2 button.colab-df-convert');\n",
              "        buttonEl.style.display =\n",
              "          google.colab.kernel.accessAllowed ? 'block' : 'none';\n",
              "\n",
              "        async function convertToInteractive(key) {\n",
              "          const element = document.querySelector('#df-65845f5d-cd66-4dee-bb49-d832368d98a2');\n",
              "          const dataTable =\n",
              "            await google.colab.kernel.invokeFunction('convertToInteractive',\n",
              "                                                     [key], {});\n",
              "          if (!dataTable) return;\n",
              "\n",
              "          const docLinkHtml = 'Like what you see? Visit the ' +\n",
              "            '<a target=\"_blank\" href=https://colab.research.google.com/notebooks/data_table.ipynb>data table notebook</a>'\n",
              "            + ' to learn more about interactive tables.';\n",
              "          element.innerHTML = '';\n",
              "          dataTable['output_type'] = 'display_data';\n",
              "          await google.colab.output.renderOutput(dataTable, element);\n",
              "          const docLink = document.createElement('div');\n",
              "          docLink.innerHTML = docLinkHtml;\n",
              "          element.appendChild(docLink);\n",
              "        }\n",
              "      </script>\n",
              "    </div>\n",
              "  </div>\n",
              "  "
            ]
          },
          "metadata": {},
          "execution_count": 22
        }
      ]
    },
    {
      "cell_type": "code",
      "source": [],
      "metadata": {
        "id": "SWaRvrVdYbPq"
      },
      "execution_count": null,
      "outputs": []
    },
    {
      "cell_type": "code",
      "source": [],
      "metadata": {
        "id": "eFSQlRCfYbSC"
      },
      "execution_count": null,
      "outputs": []
    },
    {
      "cell_type": "code",
      "source": [
        "data_val_with_preds"
      ],
      "metadata": {
        "colab": {
          "base_uri": "https://localhost:8080/",
          "height": 424
        },
        "id": "VEJelK9CYYlz",
        "outputId": "04704bfb-7fa1-4f11-d39c-68563bc28ddc"
      },
      "execution_count": null,
      "outputs": [
        {
          "output_type": "execute_result",
          "data": {
            "text/plain": [
              "                                         sentence_clear  \\\n",
              "97    договор от именуемое в дальнейшем подрядчик в ...   \n",
              "98                                     предмет договора   \n",
              "99    подрядчик обязуется выполнить по заданию заказ...   \n",
              "100     работа выполняется за риск подрядчика заказчика   \n",
              "101                   сроки и способы выполнения работы   \n",
              "...                                                 ...   \n",
              "8559  legal addresses and bank details of the partie...   \n",
              "8560  рекомендуется устанавливать срок не более дней...   \n",
              "8561  в зависимости от вида услуг и места проведения...   \n",
              "8562  в случае проведения мероприятия на территории ...   \n",
              "8563  договор на оказание услуг services agreement p...   \n",
              "\n",
              "                       target              target_pred  \n",
              "97           Договоры подряда         Договоры подряда  \n",
              "98           Договоры подряда  Договоры оказания услуг  \n",
              "99           Договоры подряда         Договоры подряда  \n",
              "100          Договоры подряда         Договоры подряда  \n",
              "101          Договоры подряда         Договоры подряда  \n",
              "...                       ...                      ...  \n",
              "8559  Договоры оказания услуг  Договоры оказания услуг  \n",
              "8560  Договоры оказания услуг  Договоры оказания услуг  \n",
              "8561  Договоры оказания услуг  Договоры оказания услуг  \n",
              "8562  Договоры оказания услуг  Договоры оказания услуг  \n",
              "8563  Договоры оказания услуг  Договоры оказания услуг  \n",
              "\n",
              "[1372 rows x 3 columns]"
            ],
            "text/html": [
              "\n",
              "  <div id=\"df-c2a40026-9f55-4e8c-a7f5-edef1d1cfd71\">\n",
              "    <div class=\"colab-df-container\">\n",
              "      <div>\n",
              "<style scoped>\n",
              "    .dataframe tbody tr th:only-of-type {\n",
              "        vertical-align: middle;\n",
              "    }\n",
              "\n",
              "    .dataframe tbody tr th {\n",
              "        vertical-align: top;\n",
              "    }\n",
              "\n",
              "    .dataframe thead th {\n",
              "        text-align: right;\n",
              "    }\n",
              "</style>\n",
              "<table border=\"1\" class=\"dataframe\">\n",
              "  <thead>\n",
              "    <tr style=\"text-align: right;\">\n",
              "      <th></th>\n",
              "      <th>sentence_clear</th>\n",
              "      <th>target</th>\n",
              "      <th>target_pred</th>\n",
              "    </tr>\n",
              "  </thead>\n",
              "  <tbody>\n",
              "    <tr>\n",
              "      <th>97</th>\n",
              "      <td>договор от именуемое в дальнейшем подрядчик в ...</td>\n",
              "      <td>Договоры подряда</td>\n",
              "      <td>Договоры подряда</td>\n",
              "    </tr>\n",
              "    <tr>\n",
              "      <th>98</th>\n",
              "      <td>предмет договора</td>\n",
              "      <td>Договоры подряда</td>\n",
              "      <td>Договоры оказания услуг</td>\n",
              "    </tr>\n",
              "    <tr>\n",
              "      <th>99</th>\n",
              "      <td>подрядчик обязуется выполнить по заданию заказ...</td>\n",
              "      <td>Договоры подряда</td>\n",
              "      <td>Договоры подряда</td>\n",
              "    </tr>\n",
              "    <tr>\n",
              "      <th>100</th>\n",
              "      <td>работа выполняется за риск подрядчика заказчика</td>\n",
              "      <td>Договоры подряда</td>\n",
              "      <td>Договоры подряда</td>\n",
              "    </tr>\n",
              "    <tr>\n",
              "      <th>101</th>\n",
              "      <td>сроки и способы выполнения работы</td>\n",
              "      <td>Договоры подряда</td>\n",
              "      <td>Договоры подряда</td>\n",
              "    </tr>\n",
              "    <tr>\n",
              "      <th>...</th>\n",
              "      <td>...</td>\n",
              "      <td>...</td>\n",
              "      <td>...</td>\n",
              "    </tr>\n",
              "    <tr>\n",
              "      <th>8559</th>\n",
              "      <td>legal addresses and bank details of the partie...</td>\n",
              "      <td>Договоры оказания услуг</td>\n",
              "      <td>Договоры оказания услуг</td>\n",
              "    </tr>\n",
              "    <tr>\n",
              "      <th>8560</th>\n",
              "      <td>рекомендуется устанавливать срок не более дней...</td>\n",
              "      <td>Договоры оказания услуг</td>\n",
              "      <td>Договоры оказания услуг</td>\n",
              "    </tr>\n",
              "    <tr>\n",
              "      <th>8561</th>\n",
              "      <td>в зависимости от вида услуг и места проведения...</td>\n",
              "      <td>Договоры оказания услуг</td>\n",
              "      <td>Договоры оказания услуг</td>\n",
              "    </tr>\n",
              "    <tr>\n",
              "      <th>8562</th>\n",
              "      <td>в случае проведения мероприятия на территории ...</td>\n",
              "      <td>Договоры оказания услуг</td>\n",
              "      <td>Договоры оказания услуг</td>\n",
              "    </tr>\n",
              "    <tr>\n",
              "      <th>8563</th>\n",
              "      <td>договор на оказание услуг services agreement p...</td>\n",
              "      <td>Договоры оказания услуг</td>\n",
              "      <td>Договоры оказания услуг</td>\n",
              "    </tr>\n",
              "  </tbody>\n",
              "</table>\n",
              "<p>1372 rows × 3 columns</p>\n",
              "</div>\n",
              "      <button class=\"colab-df-convert\" onclick=\"convertToInteractive('df-c2a40026-9f55-4e8c-a7f5-edef1d1cfd71')\"\n",
              "              title=\"Convert this dataframe to an interactive table.\"\n",
              "              style=\"display:none;\">\n",
              "        \n",
              "  <svg xmlns=\"http://www.w3.org/2000/svg\" height=\"24px\"viewBox=\"0 0 24 24\"\n",
              "       width=\"24px\">\n",
              "    <path d=\"M0 0h24v24H0V0z\" fill=\"none\"/>\n",
              "    <path d=\"M18.56 5.44l.94 2.06.94-2.06 2.06-.94-2.06-.94-.94-2.06-.94 2.06-2.06.94zm-11 1L8.5 8.5l.94-2.06 2.06-.94-2.06-.94L8.5 2.5l-.94 2.06-2.06.94zm10 10l.94 2.06.94-2.06 2.06-.94-2.06-.94-.94-2.06-.94 2.06-2.06.94z\"/><path d=\"M17.41 7.96l-1.37-1.37c-.4-.4-.92-.59-1.43-.59-.52 0-1.04.2-1.43.59L10.3 9.45l-7.72 7.72c-.78.78-.78 2.05 0 2.83L4 21.41c.39.39.9.59 1.41.59.51 0 1.02-.2 1.41-.59l7.78-7.78 2.81-2.81c.8-.78.8-2.07 0-2.86zM5.41 20L4 18.59l7.72-7.72 1.47 1.35L5.41 20z\"/>\n",
              "  </svg>\n",
              "      </button>\n",
              "      \n",
              "  <style>\n",
              "    .colab-df-container {\n",
              "      display:flex;\n",
              "      flex-wrap:wrap;\n",
              "      gap: 12px;\n",
              "    }\n",
              "\n",
              "    .colab-df-convert {\n",
              "      background-color: #E8F0FE;\n",
              "      border: none;\n",
              "      border-radius: 50%;\n",
              "      cursor: pointer;\n",
              "      display: none;\n",
              "      fill: #1967D2;\n",
              "      height: 32px;\n",
              "      padding: 0 0 0 0;\n",
              "      width: 32px;\n",
              "    }\n",
              "\n",
              "    .colab-df-convert:hover {\n",
              "      background-color: #E2EBFA;\n",
              "      box-shadow: 0px 1px 2px rgba(60, 64, 67, 0.3), 0px 1px 3px 1px rgba(60, 64, 67, 0.15);\n",
              "      fill: #174EA6;\n",
              "    }\n",
              "\n",
              "    [theme=dark] .colab-df-convert {\n",
              "      background-color: #3B4455;\n",
              "      fill: #D2E3FC;\n",
              "    }\n",
              "\n",
              "    [theme=dark] .colab-df-convert:hover {\n",
              "      background-color: #434B5C;\n",
              "      box-shadow: 0px 1px 3px 1px rgba(0, 0, 0, 0.15);\n",
              "      filter: drop-shadow(0px 1px 2px rgba(0, 0, 0, 0.3));\n",
              "      fill: #FFFFFF;\n",
              "    }\n",
              "  </style>\n",
              "\n",
              "      <script>\n",
              "        const buttonEl =\n",
              "          document.querySelector('#df-c2a40026-9f55-4e8c-a7f5-edef1d1cfd71 button.colab-df-convert');\n",
              "        buttonEl.style.display =\n",
              "          google.colab.kernel.accessAllowed ? 'block' : 'none';\n",
              "\n",
              "        async function convertToInteractive(key) {\n",
              "          const element = document.querySelector('#df-c2a40026-9f55-4e8c-a7f5-edef1d1cfd71');\n",
              "          const dataTable =\n",
              "            await google.colab.kernel.invokeFunction('convertToInteractive',\n",
              "                                                     [key], {});\n",
              "          if (!dataTable) return;\n",
              "\n",
              "          const docLinkHtml = 'Like what you see? Visit the ' +\n",
              "            '<a target=\"_blank\" href=https://colab.research.google.com/notebooks/data_table.ipynb>data table notebook</a>'\n",
              "            + ' to learn more about interactive tables.';\n",
              "          element.innerHTML = '';\n",
              "          dataTable['output_type'] = 'display_data';\n",
              "          await google.colab.output.renderOutput(dataTable, element);\n",
              "          const docLink = document.createElement('div');\n",
              "          docLink.innerHTML = docLinkHtml;\n",
              "          element.appendChild(docLink);\n",
              "        }\n",
              "      </script>\n",
              "    </div>\n",
              "  </div>\n",
              "  "
            ]
          },
          "metadata": {},
          "execution_count": 25
        }
      ]
    },
    {
      "cell_type": "code",
      "source": [
        "# Оценка на тестовой выборке\n",
        "\n",
        "pred_test_labels = inference_model(model, test_data, BATCH_SIZE)\n",
        "\n",
        "data_test_with_preds = data_test.copy()\n",
        "\n",
        "data_test_with_preds['target_pred'] = pred_test_labels\n",
        "data_test_with_preds['target_pred'] = data_test_with_preds['target_pred'].map(idx2item)\n",
        "\n",
        "print('\\nTEST DATA:\\n', classification_report(data_test_with_preds.target, data_test_with_preds.target_pred))"
      ],
      "metadata": {
        "id": "iqm9PC4iVjxZ",
        "colab": {
          "base_uri": "https://localhost:8080/"
        },
        "outputId": "554aa3ba-b0eb-4929-d11a-705ee71d961e"
      },
      "execution_count": null,
      "outputs": [
        {
          "output_type": "stream",
          "name": "stderr",
          "text": [
            "100%|██████████| 3/3 [00:00<00:00,  6.24it/s]"
          ]
        },
        {
          "output_type": "stream",
          "name": "stdout",
          "text": [
            "\n",
            "TEST DATA:\n",
            "                                                    precision    recall  f1-score   support\n",
            "\n",
            "        Договоры для акселератора/Договоры аренды       1.00      1.00      1.00         3\n",
            " Договоры для акселератора/Договоры купли-продажи       1.00      1.00      1.00         4\n",
            "Договоры для акселератора/Договоры оказания услуг       1.00      1.00      1.00         5\n",
            "       Договоры для акселератора/Договоры подряда       1.00      1.00      1.00         3\n",
            "      Договоры для акселератора/Договоры поставки       1.00      1.00      1.00         3\n",
            "\n",
            "                                         accuracy                           1.00        18\n",
            "                                        macro avg       1.00      1.00      1.00        18\n",
            "                                     weighted avg       1.00      1.00      1.00        18\n",
            "\n"
          ]
        },
        {
          "output_type": "stream",
          "name": "stderr",
          "text": [
            "\n"
          ]
        }
      ]
    },
    {
      "cell_type": "code",
      "source": [],
      "metadata": {
        "id": "o7gZwaVfZzwl"
      },
      "execution_count": null,
      "outputs": []
    }
  ]
}